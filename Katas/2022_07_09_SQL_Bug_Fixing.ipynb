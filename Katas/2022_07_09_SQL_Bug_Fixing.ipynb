{
 "cells": [
  {
   "cell_type": "code",
   "execution_count": null,
   "id": "fbd9035b",
   "metadata": {},
   "outputs": [],
   "source": [
    "SELECT \n",
    "  DATE(s.transaction_date) as \"day\",\n",
    "  d.name AS department,\n",
    "  COUNT(s.id) AS sale_count\n",
    "  FROM department d\n",
    "    INNER JOIN sale s on d.id = s.department_id\n",
    "  group by \"day\", department\n",
    "  order by \"day\""
   ]
  }
 ],
 "metadata": {
  "kernelspec": {
   "display_name": "Python [conda env:.conda-m1_ih]",
   "language": "python",
   "name": "conda-env-.conda-m1_ih-py"
  },
  "language_info": {
   "codemirror_mode": {
    "name": "ipython",
    "version": 3
   },
   "file_extension": ".py",
   "mimetype": "text/x-python",
   "name": "python",
   "nbconvert_exporter": "python",
   "pygments_lexer": "ipython3",
   "version": "3.9.12"
  }
 },
 "nbformat": 4,
 "nbformat_minor": 5
}
