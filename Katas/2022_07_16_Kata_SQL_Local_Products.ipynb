{
 "cells": [
  {
   "cell_type": "code",
   "execution_count": null,
   "id": "7fd06d02",
   "metadata": {},
   "outputs": [],
   "source": [
    "SELECT \n",
    "  COUNT (id) AS products, country\n",
    "FROM products\n",
    "  WHERE country IN ('United States of America', 'Canada')\n",
    "GROUP BY country\n",
    "ORDER BY products DESC"
   ]
  }
 ],
 "metadata": {
  "kernelspec": {
   "display_name": "Python [conda env:.conda-m1_ih]",
   "language": "python",
   "name": "conda-env-.conda-m1_ih-py"
  },
  "language_info": {
   "codemirror_mode": {
    "name": "ipython",
    "version": 3
   },
   "file_extension": ".py",
   "mimetype": "text/x-python",
   "name": "python",
   "nbconvert_exporter": "python",
   "pygments_lexer": "ipython3",
   "version": "3.9.12"
  }
 },
 "nbformat": 4,
 "nbformat_minor": 5
}
