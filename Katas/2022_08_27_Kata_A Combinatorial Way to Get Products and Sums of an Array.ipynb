{
 "cells": [
  {
   "cell_type": "code",
   "execution_count": 76,
   "id": "ca04c4ff",
   "metadata": {},
   "outputs": [],
   "source": [
    "import pandas as pd\n",
    "import numpy as np\n",
    "from itertools import combinations"
   ]
  },
  {
   "cell_type": "code",
   "execution_count": 68,
   "id": "b2c0370c",
   "metadata": {},
   "outputs": [],
   "source": [
    "arr = [2, 10, 20, 15]\n",
    "num_fact = 3\n",
    "num_add = 2\n",
    "max_val = 1000"
   ]
  },
  {
   "cell_type": "code",
   "execution_count": 18,
   "id": "d6d58c79",
   "metadata": {},
   "outputs": [],
   "source": [
    "def potencia(c):\n",
    "    \"\"\"Calcula y devuelve el conjunto potencia del \n",
    "       conjunto c.\n",
    "    \"\"\"\n",
    "    if len(c) == 0:\n",
    "        return [[]]\n",
    "    r = potencia(c[:-1])\n",
    "    return r + [s + [c[-1]] for s in r]"
   ]
  },
  {
   "cell_type": "code",
   "execution_count": 29,
   "id": "cbe555f7",
   "metadata": {},
   "outputs": [],
   "source": [
    "def combinaciones(c, n):\n",
    "    \"\"\"Calcula y devuelve una lista con todas las\n",
    "       combinaciones posibles que se pueden hacer\n",
    "       con los elementos contenidos en c tomando n\n",
    "       elementos a la vez.\n",
    "    \"\"\"\n",
    "    return [s for s in potencia(c) if len(s) == n]"
   ]
  },
  {
   "cell_type": "code",
   "execution_count": 38,
   "id": "f09450cd",
   "metadata": {},
   "outputs": [],
   "source": [
    "def multiply(l):\n",
    "    return [np.prod(i) for i in l ]"
   ]
  },
  {
   "cell_type": "code",
   "execution_count": 40,
   "id": "37ee24fe",
   "metadata": {},
   "outputs": [],
   "source": [
    "def sumatories(l):\n",
    "    return [sum(i) for i in l]"
   ]
  },
  {
   "cell_type": "code",
   "execution_count": 46,
   "id": "42365506",
   "metadata": {},
   "outputs": [],
   "source": [
    "def resultado(l, k):\n",
    "    count1 = len([i for i in l if i > k])\n",
    "    count2 = len([i for i in l if i < k])\n",
    "    count3 = len([i for i in l if i == k])\n",
    "    return (count1, count2, count3)"
   ]
  },
  {
   "cell_type": "code",
   "execution_count": 37,
   "id": "a58b1597",
   "metadata": {
    "scrolled": true
   },
   "outputs": [
    {
     "data": {
      "text/plain": [
       "[[2, 10, 20], [2, 10, 15], [2, 20, 15], [10, 20, 15]]"
      ]
     },
     "execution_count": 37,
     "metadata": {},
     "output_type": "execute_result"
    }
   ],
   "source": [
    "combinaciones(lst, num_fact)"
   ]
  },
  {
   "cell_type": "code",
   "execution_count": 39,
   "id": "3e8f4573",
   "metadata": {},
   "outputs": [
    {
     "data": {
      "text/plain": [
       "[400, 300, 600, 3000]"
      ]
     },
     "execution_count": 39,
     "metadata": {},
     "output_type": "execute_result"
    }
   ],
   "source": [
    "multiply(combinaciones(lst, num_fact))"
   ]
  },
  {
   "cell_type": "code",
   "execution_count": 43,
   "id": "62d55199",
   "metadata": {},
   "outputs": [
    {
     "data": {
      "text/plain": [
       "[700, 1000, 900, 3400, 3300, 3600]"
      ]
     },
     "execution_count": 43,
     "metadata": {},
     "output_type": "execute_result"
    }
   ],
   "source": [
    "sumatories(combinaciones(multiply(combinaciones(lst, num_fact)), num_add))"
   ]
  },
  {
   "cell_type": "code",
   "execution_count": 47,
   "id": "68b1f822",
   "metadata": {},
   "outputs": [
    {
     "data": {
      "text/plain": [
       "(3, 2, 1)"
      ]
     },
     "execution_count": 47,
     "metadata": {},
     "output_type": "execute_result"
    }
   ],
   "source": [
    "resultado(sumatories(combinaciones(multiply(combinaciones(lst, num_fact)), num_add)), max_val)"
   ]
  },
  {
   "cell_type": "code",
   "execution_count": 75,
   "id": "b739e5bc",
   "metadata": {},
   "outputs": [],
   "source": [
    "def potencia(c):\n",
    "    \"\"\"Calcula y devuelve el conjunto potencia del \n",
    "       conjunto c.\n",
    "    \"\"\"\n",
    "    if len(c) == 0:\n",
    "        return [[]]\n",
    "    r = potencia(c[:-1])\n",
    "    return r + [s + [c[-1]] for s in r]\n",
    "\n",
    "def comb(c, n):\n",
    "    \"\"\"Calcula y devuelve una lista con todas las\n",
    "       combinaciones posibles que se pueden hacer\n",
    "       con los elementos contenidos en c tomando n\n",
    "       elementos a la vez.\n",
    "    \"\"\"\n",
    "    return [s for s in potencia(c) if len(s) == n]\n",
    "\n",
    "def mult(l):\n",
    "    return [np.prod(i) for i in l ]\n",
    "\n",
    "def suma(l):\n",
    "    return [sum(i) for i in l]\n",
    "\n",
    "\n",
    "def eval_prod_sum(arr, num_fact, num_add, max_val):\n",
    "    \n",
    "    # implement me!\n",
    "    for i in arr:\n",
    "        if str(i) == i:\n",
    "            return \"Error. Unexpected entries\"\n",
    "    if str(num_fact) == num_fact:\n",
    "        return \"Error. Unexpected entries\"\n",
    "    elif str(num_add) == num_add:\n",
    "        return \"Error. Unexpected entries\"\n",
    "    elif num_add <= 0:\n",
    "        return \"Error. Unexpected entries\"\n",
    "    elif str(max_val) == max_val:\n",
    "        return \"Error. Unexpected entries\"\n",
    "    elif num_fact > len(arr):\n",
    "        return \"Error. Number of factors too high\"\n",
    "    elif num_add > len(mult(comb(arr, num_fact))):\n",
    "        return \"Error. Number of addens too high\"\n",
    "\n",
    "    else:\n",
    "        count2 = len([i for i in suma(comb(mult(comb(arr, num_fact)), num_add)) if i < max_val])\n",
    "        count3 = len([i for i in suma(comb(mult(comb(arr, num_fact)), num_add)) if i == max_val])\n",
    "        count1 = len([i for i in suma(comb(mult(comb(arr, num_fact)), num_add)) if i > max_val])\n",
    "    \n",
    "        return [{f\"Below than {max_val}\" : count2},\n",
    "            {f\"Equals to {max_val}\"  : count3},\n",
    "            {f\"Higher than {max_val}\": count1}]"
   ]
  },
  {
   "cell_type": "code",
   "execution_count": 74,
   "id": "05e6f688",
   "metadata": {},
   "outputs": [
    {
     "data": {
      "text/plain": [
       "'Error. Unexpected entries'"
      ]
     },
     "execution_count": 74,
     "metadata": {},
     "output_type": "execute_result"
    }
   ],
   "source": [
    "eval_prod_sum(arr, num_fact, num_add, max_val)"
   ]
  },
  {
   "cell_type": "markdown",
   "id": "0b50ef68",
   "metadata": {},
   "source": [
    "### Resultado"
   ]
  },
  {
   "cell_type": "code",
   "execution_count": 77,
   "id": "c765f2bb",
   "metadata": {},
   "outputs": [],
   "source": [
    "def combs(arr, num_fact):\n",
    "    comb=combinations(arr, num_fact)\n",
    "    return list(comb) #importante la salida"
   ]
  },
  {
   "cell_type": "code",
   "execution_count": 78,
   "id": "efe076ad",
   "metadata": {},
   "outputs": [
    {
     "data": {
      "text/plain": [
       "[(2, 10, 20), (2, 10, 15), (2, 20, 15), (10, 20, 15)]"
      ]
     },
     "execution_count": 78,
     "metadata": {},
     "output_type": "execute_result"
    }
   ],
   "source": [
    "combs(arr, num_fact)"
   ]
  },
  {
   "cell_type": "code",
   "execution_count": 79,
   "id": "ab0a1b1b",
   "metadata": {},
   "outputs": [],
   "source": [
    "def prod(val):\n",
    "    res=1\n",
    "    for ele in val:\n",
    "        res *= ele\n",
    "    return res"
   ]
  },
  {
   "cell_type": "code",
   "execution_count": 80,
   "id": "257232cd",
   "metadata": {},
   "outputs": [],
   "source": [
    "def adds(val):\n",
    "    res=0\n",
    "    for ele in val:\n",
    "        res += ele\n",
    "    return res"
   ]
  },
  {
   "cell_type": "code",
   "execution_count": 85,
   "id": "9271d41a",
   "metadata": {},
   "outputs": [],
   "source": [
    "def eval_prod_sum(arr, num_fact, num_add, max_val):\n",
    "    values = [num_fact, num_add, max_val]\n",
    "    if any(isinstance(val, (str, float, list, dict, tuple)) for val in arr):\n",
    "        return \"Error. Unexpected entries\"\n",
    "    elif any(isinstance(val, (str, float, list, dict, tuple)) or val == 0 or val < 0 for val in values):\n",
    "        return \"Error. Unexpected entries\"\n",
    "    elif num_fact > len(arr):\n",
    "        return \"Error. Number of factors too high\"\n",
    "    elif num_add > len(combs(arr, num_fact)):\n",
    "        return \"Error. Number of addens too high\"\n",
    "    else:\n",
    "        comb1 = combs(arr, num_fact)\n",
    "        addens = [prod(list(i)) for i in comb1]\n",
    "        comb2 = combs(addens, num_add)\n",
    "        sums = [adds(list(i)) for i in comb2]\n",
    "        count1 = 0\n",
    "        count2 = 0\n",
    "        count3 = 0\n",
    "        for e in sums:\n",
    "            if e < max_val:\n",
    "                count1 += 1\n",
    "            elif e == max_val:\n",
    "                count2 += 1\n",
    "            elif e > max_val:\n",
    "                count3 += 1\n",
    "        return [{f\"Below than {max_val}\" : count1},\n",
    "            {f\"Equals to {max_val}\"  : count2},\n",
    "            {f\"Higher than {max_val}\": count3}]"
   ]
  },
  {
   "cell_type": "code",
   "execution_count": 86,
   "id": "86bab53e",
   "metadata": {},
   "outputs": [
    {
     "data": {
      "text/plain": [
       "'Error. Unexpected entries'"
      ]
     },
     "execution_count": 86,
     "metadata": {},
     "output_type": "execute_result"
    }
   ],
   "source": [
    "eval_prod_sum(arr, num_fact, num_add, max_val)"
   ]
  },
  {
   "cell_type": "code",
   "execution_count": null,
   "id": "a6949554",
   "metadata": {},
   "outputs": [],
   "source": []
  }
 ],
 "metadata": {
  "kernelspec": {
   "display_name": "Python [conda env:.conda-m1_ih]",
   "language": "python",
   "name": "conda-env-.conda-m1_ih-py"
  },
  "language_info": {
   "codemirror_mode": {
    "name": "ipython",
    "version": 3
   },
   "file_extension": ".py",
   "mimetype": "text/x-python",
   "name": "python",
   "nbconvert_exporter": "python",
   "pygments_lexer": "ipython3",
   "version": "3.9.12"
  }
 },
 "nbformat": 4,
 "nbformat_minor": 5
}
