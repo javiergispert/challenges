{
 "cells": [
  {
   "cell_type": "code",
   "execution_count": null,
   "id": "b993cfd1",
   "metadata": {},
   "outputs": [],
   "source": [
    "SELECT p.customer_id, c.email,count(p.payment_id) as payments_count, cast(sum(p.amount) as float) as total_amount \n",
    "FROM payment p \n",
    "INNER JOIN customer c ON p.customer_id = c.customer_id \n",
    "GROUP BY p.customer_id, c.email \n",
    "ORDER BY total_amount desc \n",
    "LIMIT 10"
   ]
  },
  {
   "cell_type": "code",
   "execution_count": null,
   "id": "a94fce2a",
   "metadata": {},
   "outputs": [],
   "source": []
  }
 ],
 "metadata": {
  "kernelspec": {
   "display_name": "Python [conda env:.conda-m1_ih]",
   "language": "python",
   "name": "conda-env-.conda-m1_ih-py"
  },
  "language_info": {
   "codemirror_mode": {
    "name": "ipython",
    "version": 3
   },
   "file_extension": ".py",
   "mimetype": "text/x-python",
   "name": "python",
   "nbconvert_exporter": "python",
   "pygments_lexer": "ipython3",
   "version": "3.9.12"
  }
 },
 "nbformat": 4,
 "nbformat_minor": 5
}
