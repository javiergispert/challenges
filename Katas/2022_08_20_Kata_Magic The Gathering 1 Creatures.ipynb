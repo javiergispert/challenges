{
 "cells": [
  {
   "cell_type": "code",
   "execution_count": 1,
   "id": "4a966fcb",
   "metadata": {},
   "outputs": [],
   "source": [
    "import pandas as pd\n",
    "import numpy as np"
   ]
  },
  {
   "cell_type": "code",
   "execution_count": 2,
   "id": "c75aa6b9",
   "metadata": {},
   "outputs": [],
   "source": [
    "def battle(player1, player2):\n",
    "    matches = min(len(player1), len(player2))\n",
    "    for match in range(matches):\n",
    "        # se modifican las listas originales, lo que permite no preocuparse de las cartas que no entran en juego\n",
    "        player1[match], player2[match] = competition(player1[match], player2[match])\n",
    "    player1 = list(filter(lambda x: x is not None, player1)) #con esto quitamos todos los None\n",
    "    player2 = list(filter(lambda x: x is not None, player2))\n",
    "    final_dict = {'player1': player1, 'player2': player2}\n",
    "    return final_dict"
   ]
  },
  {
   "cell_type": "code",
   "execution_count": 3,
   "id": "02520560",
   "metadata": {},
   "outputs": [],
   "source": [
    "def competition(creature1, creature2):\n",
    "    if creature2[0] >= creature1[1]:\n",
    "        c1 = None\n",
    "    else:\n",
    "        c1 = creature1\n",
    "    if creature1[0] >= creature2[1]:\n",
    "        c2 = None\n",
    "    else:\n",
    "        c2 = creature2\n",
    "    return c1, c2"
   ]
  },
  {
   "cell_type": "code",
   "execution_count": 4,
   "id": "45a763f4",
   "metadata": {},
   "outputs": [],
   "source": [
    "player1 = [[2,1], [3,4], [2,2]]\n",
    "player2 = [[1,1], [5,5]]"
   ]
  },
  {
   "cell_type": "code",
   "execution_count": 5,
   "id": "f09ab98c",
   "metadata": {},
   "outputs": [
    {
     "data": {
      "text/plain": [
       "{'player1': [[2, 2]], 'player2': [[5, 5]]}"
      ]
     },
     "execution_count": 5,
     "metadata": {},
     "output_type": "execute_result"
    }
   ],
   "source": [
    "battle(player1, player2)"
   ]
  }
 ],
 "metadata": {
  "kernelspec": {
   "display_name": "Python [conda env:.conda-m1_ih]",
   "language": "python",
   "name": "conda-env-.conda-m1_ih-py"
  },
  "language_info": {
   "codemirror_mode": {
    "name": "ipython",
    "version": 3
   },
   "file_extension": ".py",
   "mimetype": "text/x-python",
   "name": "python",
   "nbconvert_exporter": "python",
   "pygments_lexer": "ipython3",
   "version": "3.9.12"
  }
 },
 "nbformat": 4,
 "nbformat_minor": 5
}
