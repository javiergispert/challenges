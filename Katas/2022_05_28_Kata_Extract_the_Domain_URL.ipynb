{
 "cells": [
  {
   "cell_type": "code",
   "execution_count": 1,
   "id": "99ecafce",
   "metadata": {},
   "outputs": [],
   "source": [
    "def domain_name(url):\n",
    "    url = url.replace('http://', '')\n",
    "    url = url.replace('http://www.', '')\n",
    "    url = url.replace('https://', '')\n",
    "    url = url.replace('www.', '')\n",
    "    url = url.split('.')\n",
    "    return (url[0])"
   ]
  },
  {
   "cell_type": "code",
   "execution_count": 5,
   "id": "bc7c5cd2",
   "metadata": {},
   "outputs": [
    {
     "data": {
      "text/plain": [
       "'github'"
      ]
     },
     "execution_count": 5,
     "metadata": {},
     "output_type": "execute_result"
    }
   ],
   "source": [
    "domain_name(\"http://github.com/carbonfive/raygun\")"
   ]
  },
  {
   "cell_type": "code",
   "execution_count": null,
   "id": "a7994486",
   "metadata": {},
   "outputs": [],
   "source": []
  }
 ],
 "metadata": {
  "kernelspec": {
   "display_name": "Python [conda env:.conda-m1_ih]",
   "language": "python",
   "name": "conda-env-.conda-m1_ih-py"
  },
  "language_info": {
   "codemirror_mode": {
    "name": "ipython",
    "version": 3
   },
   "file_extension": ".py",
   "mimetype": "text/x-python",
   "name": "python",
   "nbconvert_exporter": "python",
   "pygments_lexer": "ipython3",
   "version": "3.9.12"
  }
 },
 "nbformat": 4,
 "nbformat_minor": 5
}
