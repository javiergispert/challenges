{
 "cells": [
  {
   "cell_type": "code",
   "execution_count": 10,
   "id": "84462441",
   "metadata": {},
   "outputs": [],
   "source": [
    "class User(object):\n",
    "    def __init__(self, name, balance, checking_account):\n",
    "        self.name = name\n",
    "        self.balance = balance\n",
    "        self.checking_account = checking_account\n",
    "    \n",
    "    def withdraw(self, money):\n",
    "        if self.balance - money < 0:\n",
    "            raise ValueError ('No tienes suficiente pasta en el balance')\n",
    "        else:\n",
    "            self.balance = self.balance - money            \n",
    "        return f'{self.name} has {self.balance}'\n",
    "    \n",
    "    def check(self, user, money):\n",
    "        if user.balance >= money and user.checking_account == True:\n",
    "            self.balance = self.balance + money\n",
    "            user.balance = user.balance - money\n",
    "        else:\n",
    "            raise ValueError ('O tienes suficiente pasta en el balance o no tienes checking account')\n",
    "        return f'{self.name} has {self.balance} and {user.name} has {user.balance}'\n",
    "    \n",
    "    def add_cash(self, money):\n",
    "        self.balance = self.balance + money\n",
    "        return f'{self.name} has {self.balance}'"
   ]
  },
  {
   "cell_type": "code",
   "execution_count": 11,
   "id": "99caa658",
   "metadata": {},
   "outputs": [],
   "source": [
    "jeff = User('Jeff', 70, True)\n",
    "joe = User('Joe', 70, False)"
   ]
  },
  {
   "cell_type": "code",
   "execution_count": 12,
   "id": "33d2edce",
   "metadata": {},
   "outputs": [
    {
     "data": {
      "text/plain": [
       "'Jeff has 62'"
      ]
     },
     "execution_count": 12,
     "metadata": {},
     "output_type": "execute_result"
    }
   ],
   "source": [
    "jeff.withdraw(8)"
   ]
  },
  {
   "cell_type": "code",
   "execution_count": 13,
   "id": "6b8890e1",
   "metadata": {},
   "outputs": [
    {
     "data": {
      "text/plain": [
       "'Joe has 120 and Jeff has 12'"
      ]
     },
     "execution_count": 13,
     "metadata": {},
     "output_type": "execute_result"
    }
   ],
   "source": [
    "joe.check(jeff, 50)"
   ]
  },
  {
   "cell_type": "code",
   "execution_count": 14,
   "id": "8adabfe0",
   "metadata": {},
   "outputs": [
    {
     "ename": "ValueError",
     "evalue": "O tienes suficiente pasta en el balance o no tienes checking account",
     "output_type": "error",
     "traceback": [
      "\u001b[1;31m---------------------------------------------------------------------------\u001b[0m",
      "\u001b[1;31mValueError\u001b[0m                                Traceback (most recent call last)",
      "Input \u001b[1;32mIn [14]\u001b[0m, in \u001b[0;36m<cell line: 1>\u001b[1;34m()\u001b[0m\n\u001b[1;32m----> 1\u001b[0m \u001b[43mjeff\u001b[49m\u001b[38;5;241;43m.\u001b[39;49m\u001b[43mcheck\u001b[49m\u001b[43m(\u001b[49m\u001b[43mjoe\u001b[49m\u001b[43m,\u001b[49m\u001b[43m \u001b[49m\u001b[38;5;241;43m80\u001b[39;49m\u001b[43m)\u001b[49m\n",
      "Input \u001b[1;32mIn [10]\u001b[0m, in \u001b[0;36mUser.check\u001b[1;34m(self, user, money)\u001b[0m\n\u001b[0;32m     17\u001b[0m     user\u001b[38;5;241m.\u001b[39mbalance \u001b[38;5;241m=\u001b[39m user\u001b[38;5;241m.\u001b[39mbalance \u001b[38;5;241m-\u001b[39m money\n\u001b[0;32m     18\u001b[0m \u001b[38;5;28;01melse\u001b[39;00m:\n\u001b[1;32m---> 19\u001b[0m     \u001b[38;5;28;01mraise\u001b[39;00m \u001b[38;5;167;01mValueError\u001b[39;00m (\u001b[38;5;124m'\u001b[39m\u001b[38;5;124mO tienes suficiente pasta en el balance o no tienes checking account\u001b[39m\u001b[38;5;124m'\u001b[39m)\n\u001b[0;32m     20\u001b[0m \u001b[38;5;28;01mreturn\u001b[39;00m \u001b[38;5;124mf\u001b[39m\u001b[38;5;124m'\u001b[39m\u001b[38;5;132;01m{\u001b[39;00m\u001b[38;5;28mself\u001b[39m\u001b[38;5;241m.\u001b[39mname\u001b[38;5;132;01m}\u001b[39;00m\u001b[38;5;124m has \u001b[39m\u001b[38;5;132;01m{\u001b[39;00m\u001b[38;5;28mself\u001b[39m\u001b[38;5;241m.\u001b[39mbalance\u001b[38;5;132;01m}\u001b[39;00m\u001b[38;5;124m and \u001b[39m\u001b[38;5;132;01m{\u001b[39;00muser\u001b[38;5;241m.\u001b[39mname\u001b[38;5;132;01m}\u001b[39;00m\u001b[38;5;124m has \u001b[39m\u001b[38;5;132;01m{\u001b[39;00muser\u001b[38;5;241m.\u001b[39mbalance\u001b[38;5;132;01m}\u001b[39;00m\u001b[38;5;124m'\u001b[39m\n",
      "\u001b[1;31mValueError\u001b[0m: O tienes suficiente pasta en el balance o no tienes checking account"
     ]
    }
   ],
   "source": [
    "jeff.check(joe, 80)"
   ]
  },
  {
   "cell_type": "code",
   "execution_count": 15,
   "id": "f56dc238",
   "metadata": {},
   "outputs": [
    {
     "data": {
      "text/plain": [
       "'Jeff has 32.0'"
      ]
     },
     "execution_count": 15,
     "metadata": {},
     "output_type": "execute_result"
    }
   ],
   "source": [
    "jeff.add_cash(20.00)"
   ]
  },
  {
   "cell_type": "code",
   "execution_count": null,
   "id": "c7f51eb4",
   "metadata": {},
   "outputs": [],
   "source": []
  }
 ],
 "metadata": {
  "kernelspec": {
   "display_name": "Python [conda env:.conda-m1_ih]",
   "language": "python",
   "name": "conda-env-.conda-m1_ih-py"
  },
  "language_info": {
   "codemirror_mode": {
    "name": "ipython",
    "version": 3
   },
   "file_extension": ".py",
   "mimetype": "text/x-python",
   "name": "python",
   "nbconvert_exporter": "python",
   "pygments_lexer": "ipython3",
   "version": "3.9.12"
  }
 },
 "nbformat": 4,
 "nbformat_minor": 5
}
