{
 "cells": [
  {
   "cell_type": "code",
   "execution_count": 45,
   "id": "e96f1b28",
   "metadata": {},
   "outputs": [],
   "source": [
    "import re\n",
    "import bs4\n",
    "import requests"
   ]
  },
  {
   "cell_type": "code",
   "execution_count": 46,
   "id": "7708b25a",
   "metadata": {},
   "outputs": [
    {
     "data": {
      "text/plain": [
       "'https://www.codewars.com/users/rails'"
      ]
     },
     "execution_count": 46,
     "metadata": {},
     "output_type": "execute_result"
    }
   ],
   "source": [
    "user = 'rails'\n",
    "url = 'https://www.codewars.com/users/' + user\n",
    "url"
   ]
  },
  {
   "cell_type": "code",
   "execution_count": 42,
   "id": "2c42c7d5",
   "metadata": {},
   "outputs": [],
   "source": [
    "r = requests.get(url) #este objeto r no es el html, sino que contiene el html\n",
    "r = r.content #aquí sí está el html\n",
    "parsed_html = bs4.BeautifulSoup(r, \"html.parser\")"
   ]
  },
  {
   "cell_type": "code",
   "execution_count": 53,
   "id": "775eb9e4",
   "metadata": {},
   "outputs": [
    {
     "data": {
      "text/plain": [
       "'Member Since:Sep 2020'"
      ]
     },
     "execution_count": 53,
     "metadata": {},
     "output_type": "execute_result"
    }
   ],
   "source": [
    "stat = parsed_html.find_all(\"div\", {'class': 'stat'})\n",
    "stat\n",
    "stat[2].text"
   ]
  },
  {
   "cell_type": "code",
   "execution_count": 56,
   "id": "1cdb7fe7",
   "metadata": {},
   "outputs": [
    {
     "name": "stdout",
     "output_type": "stream",
     "text": [
      "Sep 2020\n"
     ]
    }
   ],
   "source": [
    "for i in stat:\n",
    "    if 'Member Since' in i.text:\n",
    "        year = i.text.split(':')[1]\n",
    "        print(year)"
   ]
  },
  {
   "cell_type": "code",
   "execution_count": 54,
   "id": "3b0d0cf8",
   "metadata": {},
   "outputs": [],
   "source": [
    "data = [stat[e].text.split(':')[1] for e in range(len(stat)) if stat[e].text.split(':')[0] == 'Member Since'][0]"
   ]
  },
  {
   "cell_type": "code",
   "execution_count": 55,
   "id": "117996eb",
   "metadata": {},
   "outputs": [
    {
     "data": {
      "text/plain": [
       "'Sep 2020'"
      ]
     },
     "execution_count": 55,
     "metadata": {},
     "output_type": "execute_result"
    }
   ],
   "source": [
    "data"
   ]
  },
  {
   "cell_type": "markdown",
   "id": "b4534e34",
   "metadata": {},
   "source": [
    "### Probando otra forma"
   ]
  },
  {
   "cell_type": "code",
   "execution_count": 49,
   "id": "f47415ee",
   "metadata": {},
   "outputs": [
    {
     "name": "stdout",
     "output_type": "stream",
     "text": [
      "<b>Member Since:</b>\n",
      "Sep 2020\n"
     ]
    },
    {
     "data": {
      "text/plain": [
       "'Sep 2020'"
      ]
     },
     "execution_count": 49,
     "metadata": {},
     "output_type": "execute_result"
    }
   ],
   "source": [
    "article = parsed_html.find_all(\"div\", {'class': 'stat'})[2]\n",
    "\n",
    "articles = []\n",
    "for a in article:\n",
    "    a = str(a) #output es str de article\n",
    "    print(a)\n",
    "    soup_a = bs4.BeautifulSoup(a, \"html.parser\") #output = objeto de bs4\n",
    "    articles.append(a)\n",
    "    #for i in list_a:\n",
    "        #articles.append(i.string.strip().split(' /')[0])\n",
    "        #print(i.string.strip().split(' /')[0])\n",
    "        #print(i.attrs) #nos imprime los atributos\n",
    "        \n",
    "articles[1]"
   ]
  }
 ],
 "metadata": {
  "kernelspec": {
   "display_name": "Python [conda env:.conda-m1_ih]",
   "language": "python",
   "name": "conda-env-.conda-m1_ih-py"
  },
  "language_info": {
   "codemirror_mode": {
    "name": "ipython",
    "version": 3
   },
   "file_extension": ".py",
   "mimetype": "text/x-python",
   "name": "python",
   "nbconvert_exporter": "python",
   "pygments_lexer": "ipython3",
   "version": "3.9.12"
  }
 },
 "nbformat": 4,
 "nbformat_minor": 5
}
