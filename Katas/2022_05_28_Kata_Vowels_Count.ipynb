{
 "cells": [
  {
   "cell_type": "code",
   "execution_count": 3,
   "id": "eca193b9",
   "metadata": {},
   "outputs": [],
   "source": [
    "def get_count(sentence):\n",
    "    i = 0\n",
    "    for x in sentence:\n",
    "        if x == 'a' or x == 'e' or x == 'i' or x == 'o' or x == 'u':\n",
    "            i = i + 1  \n",
    "    return i"
   ]
  },
  {
   "cell_type": "code",
   "execution_count": 4,
   "id": "3e013cee",
   "metadata": {},
   "outputs": [
    {
     "data": {
      "text/plain": [
       "9"
      ]
     },
     "execution_count": 4,
     "metadata": {},
     "output_type": "execute_result"
    }
   ],
   "source": [
    "get_count('Esto es una buena broma')"
   ]
  },
  {
   "cell_type": "code",
   "execution_count": null,
   "id": "be6c8044",
   "metadata": {},
   "outputs": [],
   "source": []
  }
 ],
 "metadata": {
  "kernelspec": {
   "display_name": "Python [conda env:.conda-m1_ih]",
   "language": "python",
   "name": "conda-env-.conda-m1_ih-py"
  },
  "language_info": {
   "codemirror_mode": {
    "name": "ipython",
    "version": 3
   },
   "file_extension": ".py",
   "mimetype": "text/x-python",
   "name": "python",
   "nbconvert_exporter": "python",
   "pygments_lexer": "ipython3",
   "version": "3.9.12"
  }
 },
 "nbformat": 4,
 "nbformat_minor": 5
}
