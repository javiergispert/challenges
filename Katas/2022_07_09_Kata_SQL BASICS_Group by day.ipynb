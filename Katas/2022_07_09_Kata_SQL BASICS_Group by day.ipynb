{
 "cells": [
  {
   "cell_type": "code",
   "execution_count": null,
   "id": "da5cbf9e",
   "metadata": {},
   "outputs": [],
   "source": [
    "SELECT\n",
    "  DATE(events.created_at) AS \"day\",\n",
    "  events.description AS description,\n",
    "  COUNT(events.id) AS \"count\"\n",
    "FROM events\n",
    "WHERE events.name = 'trained'\n",
    "GROUP BY \"day\", description\n",
    "ORDER BY \"day\""
   ]
  }
 ],
 "metadata": {
  "kernelspec": {
   "display_name": "Python [conda env:.conda-m1_ih]",
   "language": "python",
   "name": "conda-env-.conda-m1_ih-py"
  },
  "language_info": {
   "codemirror_mode": {
    "name": "ipython",
    "version": 3
   },
   "file_extension": ".py",
   "mimetype": "text/x-python",
   "name": "python",
   "nbconvert_exporter": "python",
   "pygments_lexer": "ipython3",
   "version": "3.9.12"
  }
 },
 "nbformat": 4,
 "nbformat_minor": 5
}
