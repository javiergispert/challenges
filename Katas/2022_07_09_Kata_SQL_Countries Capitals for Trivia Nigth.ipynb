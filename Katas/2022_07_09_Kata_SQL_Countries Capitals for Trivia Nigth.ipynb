{
 "cells": [
  {
   "cell_type": "code",
   "execution_count": null,
   "id": "4e4b381e",
   "metadata": {},
   "outputs": [],
   "source": [
    "SELECT capital \n",
    "FROM countries\n",
    "where continent in ('Africa','Afrika') and country LIKE 'E%'\n",
    "order by capital\n",
    "LIMIT 3"
   ]
  }
 ],
 "metadata": {
  "kernelspec": {
   "display_name": "Python [conda env:.conda-m1_ih]",
   "language": "python",
   "name": "conda-env-.conda-m1_ih-py"
  },
  "language_info": {
   "codemirror_mode": {
    "name": "ipython",
    "version": 3
   },
   "file_extension": ".py",
   "mimetype": "text/x-python",
   "name": "python",
   "nbconvert_exporter": "python",
   "pygments_lexer": "ipython3",
   "version": "3.9.12"
  }
 },
 "nbformat": 4,
 "nbformat_minor": 5
}
