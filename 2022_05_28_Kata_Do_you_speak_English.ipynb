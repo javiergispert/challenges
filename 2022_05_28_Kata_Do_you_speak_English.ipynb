{
 "cells": [
  {
   "cell_type": "markdown",
   "id": "ae8c10bb",
   "metadata": {},
   "source": [
    "# Kata del sábado"
   ]
  },
  {
   "cell_type": "code",
   "execution_count": 6,
   "id": "340c153b",
   "metadata": {
    "scrolled": true
   },
   "outputs": [],
   "source": [
    "def sp_eng(sentence): \n",
    "    # your code here\n",
    "    return 'english' in sentence.lower()"
   ]
  },
  {
   "cell_type": "code",
   "execution_count": 7,
   "id": "3ea8f62f",
   "metadata": {},
   "outputs": [
    {
     "data": {
      "text/plain": [
       "True"
      ]
     },
     "execution_count": 7,
     "metadata": {},
     "output_type": "execute_result"
    }
   ],
   "source": [
    "sp_eng('english12')"
   ]
  },
  {
   "cell_type": "code",
   "execution_count": null,
   "id": "ad3ecc3a",
   "metadata": {},
   "outputs": [],
   "source": []
  }
 ],
 "metadata": {
  "kernelspec": {
   "display_name": "Python [conda env:.conda-m1_ih]",
   "language": "python",
   "name": "conda-env-.conda-m1_ih-py"
  },
  "language_info": {
   "codemirror_mode": {
    "name": "ipython",
    "version": 3
   },
   "file_extension": ".py",
   "mimetype": "text/x-python",
   "name": "python",
   "nbconvert_exporter": "python",
   "pygments_lexer": "ipython3",
   "version": "3.9.12"
  }
 },
 "nbformat": 4,
 "nbformat_minor": 5
}
