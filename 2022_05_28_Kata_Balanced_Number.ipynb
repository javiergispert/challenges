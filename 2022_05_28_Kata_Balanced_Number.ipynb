{
 "cells": [
  {
   "cell_type": "code",
   "execution_count": 1,
   "id": "2643314a",
   "metadata": {},
   "outputs": [],
   "source": [
    "def balanced_num(number):\n",
    "    number = str(number)\n",
    "    leftsum = 0\n",
    "    rigthsum = 0\n",
    "    a = len(number)\n",
    "    if(a%2 == 0):\n",
    "        b = (a/2)-1\n",
    "    else:\n",
    "        b = a / 2\n",
    "    for i in range(0,int(b)):\n",
    "        leftsum = leftsum + int(number[i])\n",
    "        rigthsum = (rigthsum + int(number[len(number)-1-i]))\n",
    "    if(leftsum == rigthsum):\n",
    "        return \"Balanced\"\n",
    "    else:\n",
    "        return \"Not Balanced\""
   ]
  },
  {
   "cell_type": "code",
   "execution_count": 2,
   "id": "35c980a9",
   "metadata": {},
   "outputs": [
    {
     "data": {
      "text/plain": [
       "'Not Balanced'"
      ]
     },
     "execution_count": 2,
     "metadata": {},
     "output_type": "execute_result"
    }
   ],
   "source": [
    "balanced_num(21313)"
   ]
  },
  {
   "cell_type": "code",
   "execution_count": null,
   "id": "e6bd2f06",
   "metadata": {},
   "outputs": [],
   "source": []
  }
 ],
 "metadata": {
  "kernelspec": {
   "display_name": "Python [conda env:.conda-m1_ih]",
   "language": "python",
   "name": "conda-env-.conda-m1_ih-py"
  },
  "language_info": {
   "codemirror_mode": {
    "name": "ipython",
    "version": 3
   },
   "file_extension": ".py",
   "mimetype": "text/x-python",
   "name": "python",
   "nbconvert_exporter": "python",
   "pygments_lexer": "ipython3",
   "version": "3.9.12"
  }
 },
 "nbformat": 4,
 "nbformat_minor": 5
}
