{
 "cells": [
  {
   "cell_type": "code",
   "execution_count": 3,
   "id": "62b91e7a",
   "metadata": {},
   "outputs": [
    {
     "name": "stdout",
     "output_type": "stream",
     "text": [
      "['http:', '', 'github.com', 'carbonfive', 'raygun']\n"
     ]
    }
   ],
   "source": [
    "url = \"http://github.com/carbonfive/raygun\"\n",
    "print(url.split('/'))"
   ]
  },
  {
   "cell_type": "code",
   "execution_count": null,
   "id": "bc7c5cd2",
   "metadata": {},
   "outputs": [],
   "source": []
  }
 ],
 "metadata": {
  "kernelspec": {
   "display_name": "Python [conda env:.conda-m1_ih]",
   "language": "python",
   "name": "conda-env-.conda-m1_ih-py"
  },
  "language_info": {
   "codemirror_mode": {
    "name": "ipython",
    "version": 3
   },
   "file_extension": ".py",
   "mimetype": "text/x-python",
   "name": "python",
   "nbconvert_exporter": "python",
   "pygments_lexer": "ipython3",
   "version": "3.9.12"
  }
 },
 "nbformat": 4,
 "nbformat_minor": 5
}
