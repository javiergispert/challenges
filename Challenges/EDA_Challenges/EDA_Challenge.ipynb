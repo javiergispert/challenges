{
 "cells": [
  {
   "cell_type": "code",
   "execution_count": 2,
   "id": "62026862",
   "metadata": {},
   "outputs": [],
   "source": [
    "import sqlalchemy\n",
    "from sqlalchemy import create_engine\n",
    "from sqlalchemy import inspect\n",
    "import pandas as pd\n",
    "import numpy as np\n",
    "import os\n",
    "from dotenv import load_dotenv\n",
    "from scipy.stats import trim_mean   # conda install scipy\n",
    "from statsmodels import robust      # conda install -c conda-forge statsmodels \n",
    "import wquantiles                   # pip install wquantiles\n",
    "\n",
    "import seaborn as sns\n",
    "import matplotlib.pylab as plt"
   ]
  },
  {
   "cell_type": "markdown",
   "id": "2a2cb78a",
   "metadata": {},
   "source": [
    "# 1º IMPORTACIÓN DE LOS DF\n",
    "### RAPIDO ANÁLISIS"
   ]
  },
  {
   "cell_type": "code",
   "execution_count": 3,
   "id": "0c1e3b34",
   "metadata": {},
   "outputs": [],
   "source": [
    "df_city = pd.read_csv('./data/diamonds_city_202208201409.csv')"
   ]
  },
  {
   "cell_type": "code",
   "execution_count": 4,
   "id": "5a708620",
   "metadata": {},
   "outputs": [
    {
     "data": {
      "text/html": [
       "<div>\n",
       "<style scoped>\n",
       "    .dataframe tbody tr th:only-of-type {\n",
       "        vertical-align: middle;\n",
       "    }\n",
       "\n",
       "    .dataframe tbody tr th {\n",
       "        vertical-align: top;\n",
       "    }\n",
       "\n",
       "    .dataframe thead th {\n",
       "        text-align: right;\n",
       "    }\n",
       "</style>\n",
       "<table border=\"1\" class=\"dataframe\">\n",
       "  <thead>\n",
       "    <tr style=\"text-align: right;\">\n",
       "      <th></th>\n",
       "      <th>city_id</th>\n",
       "      <th>city</th>\n",
       "    </tr>\n",
       "  </thead>\n",
       "  <tbody>\n",
       "    <tr>\n",
       "      <th>0</th>\n",
       "      <td>0013c01fe0d094209b8bd3d23b8f96dbabcd01ddd2a039...</td>\n",
       "      <td>Amsterdam</td>\n",
       "    </tr>\n",
       "    <tr>\n",
       "      <th>1</th>\n",
       "      <td>1e73b1647343b286269d517e6f07e6e07ccef10cd7b785...</td>\n",
       "      <td>Zurich</td>\n",
       "    </tr>\n",
       "    <tr>\n",
       "      <th>2</th>\n",
       "      <td>2bd25cd960aba8b706e2b67f2bb38b750ee5384b0e9883...</td>\n",
       "      <td>Las Vegas</td>\n",
       "    </tr>\n",
       "    <tr>\n",
       "      <th>3</th>\n",
       "      <td>5a59ef2e40c5f89adb8c0c6ad0a8019b0e252fff530cf2...</td>\n",
       "      <td>New York City</td>\n",
       "    </tr>\n",
       "    <tr>\n",
       "      <th>4</th>\n",
       "      <td>5dd272b4f316b776a7b8e3d0894b37e1e42be3d5d3b204...</td>\n",
       "      <td>Paris</td>\n",
       "    </tr>\n",
       "  </tbody>\n",
       "</table>\n",
       "</div>"
      ],
      "text/plain": [
       "                                             city_id           city\n",
       "0  0013c01fe0d094209b8bd3d23b8f96dbabcd01ddd2a039...      Amsterdam\n",
       "1  1e73b1647343b286269d517e6f07e6e07ccef10cd7b785...         Zurich\n",
       "2  2bd25cd960aba8b706e2b67f2bb38b750ee5384b0e9883...      Las Vegas\n",
       "3  5a59ef2e40c5f89adb8c0c6ad0a8019b0e252fff530cf2...  New York City\n",
       "4  5dd272b4f316b776a7b8e3d0894b37e1e42be3d5d3b204...          Paris"
      ]
     },
     "execution_count": 4,
     "metadata": {},
     "output_type": "execute_result"
    }
   ],
   "source": [
    "#df_city.info() #compuesto por 15 filas y dos columnas sin nulos\n",
    "df_city.head()"
   ]
  },
  {
   "cell_type": "code",
   "execution_count": 5,
   "id": "b744931b",
   "metadata": {},
   "outputs": [],
   "source": [
    "df_clarity = pd.read_csv('./data/diamonds_clarity_202208201409.csv')"
   ]
  },
  {
   "cell_type": "code",
   "execution_count": 6,
   "id": "d620cf3b",
   "metadata": {},
   "outputs": [
    {
     "data": {
      "text/html": [
       "<div>\n",
       "<style scoped>\n",
       "    .dataframe tbody tr th:only-of-type {\n",
       "        vertical-align: middle;\n",
       "    }\n",
       "\n",
       "    .dataframe tbody tr th {\n",
       "        vertical-align: top;\n",
       "    }\n",
       "\n",
       "    .dataframe thead th {\n",
       "        text-align: right;\n",
       "    }\n",
       "</style>\n",
       "<table border=\"1\" class=\"dataframe\">\n",
       "  <thead>\n",
       "    <tr style=\"text-align: right;\">\n",
       "      <th></th>\n",
       "      <th>clarity_id</th>\n",
       "      <th>clarity</th>\n",
       "    </tr>\n",
       "  </thead>\n",
       "  <tbody>\n",
       "    <tr>\n",
       "      <th>0</th>\n",
       "      <td>03c358cbd92e83278fd523f58dc6a9b4b198d00728af65...</td>\n",
       "      <td>SI2</td>\n",
       "    </tr>\n",
       "    <tr>\n",
       "      <th>1</th>\n",
       "      <td>3f9db06236e9719b61c826b612b882fa702ec81574e44c...</td>\n",
       "      <td>VVS2</td>\n",
       "    </tr>\n",
       "    <tr>\n",
       "      <th>2</th>\n",
       "      <td>66686ae1f0c9c400ba32dc600a34ff0aa173395bcbc2d8...</td>\n",
       "      <td>VVS1</td>\n",
       "    </tr>\n",
       "    <tr>\n",
       "      <th>3</th>\n",
       "      <td>7020fd7aaf1656dea5c0c0c3d4bb5a28ebf6243fba95d3...</td>\n",
       "      <td>IF</td>\n",
       "    </tr>\n",
       "    <tr>\n",
       "      <th>4</th>\n",
       "      <td>bd4f4a250da88f87729febc739ae97f439a14f9d38f0e3...</td>\n",
       "      <td>SI1</td>\n",
       "    </tr>\n",
       "  </tbody>\n",
       "</table>\n",
       "</div>"
      ],
      "text/plain": [
       "                                          clarity_id clarity\n",
       "0  03c358cbd92e83278fd523f58dc6a9b4b198d00728af65...     SI2\n",
       "1  3f9db06236e9719b61c826b612b882fa702ec81574e44c...    VVS2\n",
       "2  66686ae1f0c9c400ba32dc600a34ff0aa173395bcbc2d8...    VVS1\n",
       "3  7020fd7aaf1656dea5c0c0c3d4bb5a28ebf6243fba95d3...      IF\n",
       "4  bd4f4a250da88f87729febc739ae97f439a14f9d38f0e3...     SI1"
      ]
     },
     "execution_count": 6,
     "metadata": {},
     "output_type": "execute_result"
    }
   ],
   "source": [
    "#df_clarity.info() #compuesto por 8 filas y 2 columnas sin nulos\n",
    "df_clarity.head()"
   ]
  },
  {
   "cell_type": "code",
   "execution_count": 7,
   "id": "f407e2eb",
   "metadata": {},
   "outputs": [],
   "source": [
    "df_color = pd.read_csv('./data/diamonds_color_202208201409.csv')"
   ]
  },
  {
   "cell_type": "code",
   "execution_count": 8,
   "id": "031544b9",
   "metadata": {},
   "outputs": [
    {
     "data": {
      "text/html": [
       "<div>\n",
       "<style scoped>\n",
       "    .dataframe tbody tr th:only-of-type {\n",
       "        vertical-align: middle;\n",
       "    }\n",
       "\n",
       "    .dataframe tbody tr th {\n",
       "        vertical-align: top;\n",
       "    }\n",
       "\n",
       "    .dataframe thead th {\n",
       "        text-align: right;\n",
       "    }\n",
       "</style>\n",
       "<table border=\"1\" class=\"dataframe\">\n",
       "  <thead>\n",
       "    <tr style=\"text-align: right;\">\n",
       "      <th></th>\n",
       "      <th>color_id</th>\n",
       "      <th>color</th>\n",
       "    </tr>\n",
       "  </thead>\n",
       "  <tbody>\n",
       "    <tr>\n",
       "      <th>0</th>\n",
       "      <td>333e0a1e27815d0ceee55c473fe3dc93d56c63e3bee2b3...</td>\n",
       "      <td>G</td>\n",
       "    </tr>\n",
       "    <tr>\n",
       "      <th>1</th>\n",
       "      <td>3f39d5c348e5b79d06e842c114e6cc571583bbf44e4b0e...</td>\n",
       "      <td>D</td>\n",
       "    </tr>\n",
       "    <tr>\n",
       "      <th>2</th>\n",
       "      <td>44bd7ae60f478fae1061e11a7739f4b94d1daf917982d3...</td>\n",
       "      <td>H</td>\n",
       "    </tr>\n",
       "    <tr>\n",
       "      <th>3</th>\n",
       "      <td>6da43b944e494e885e69af021f93c6d9331c78aa228084...</td>\n",
       "      <td>J</td>\n",
       "    </tr>\n",
       "    <tr>\n",
       "      <th>4</th>\n",
       "      <td>a83dd0ccbffe39d071cc317ddf6e97f5c6b1c87af91919...</td>\n",
       "      <td>I</td>\n",
       "    </tr>\n",
       "  </tbody>\n",
       "</table>\n",
       "</div>"
      ],
      "text/plain": [
       "                                            color_id color\n",
       "0  333e0a1e27815d0ceee55c473fe3dc93d56c63e3bee2b3...     G\n",
       "1  3f39d5c348e5b79d06e842c114e6cc571583bbf44e4b0e...     D\n",
       "2  44bd7ae60f478fae1061e11a7739f4b94d1daf917982d3...     H\n",
       "3  6da43b944e494e885e69af021f93c6d9331c78aa228084...     J\n",
       "4  a83dd0ccbffe39d071cc317ddf6e97f5c6b1c87af91919...     I"
      ]
     },
     "execution_count": 8,
     "metadata": {},
     "output_type": "execute_result"
    }
   ],
   "source": [
    "#df_color.info() #compuesto por 7 filas y 2 columnas sin nulos\n",
    "df_color.head()"
   ]
  },
  {
   "cell_type": "code",
   "execution_count": 9,
   "id": "9df09010",
   "metadata": {},
   "outputs": [],
   "source": [
    "df_cut = pd.read_csv('./data/diamonds_cut_202208201409.csv')"
   ]
  },
  {
   "cell_type": "code",
   "execution_count": 10,
   "id": "d2765840",
   "metadata": {},
   "outputs": [
    {
     "data": {
      "text/html": [
       "<div>\n",
       "<style scoped>\n",
       "    .dataframe tbody tr th:only-of-type {\n",
       "        vertical-align: middle;\n",
       "    }\n",
       "\n",
       "    .dataframe tbody tr th {\n",
       "        vertical-align: top;\n",
       "    }\n",
       "\n",
       "    .dataframe thead th {\n",
       "        text-align: right;\n",
       "    }\n",
       "</style>\n",
       "<table border=\"1\" class=\"dataframe\">\n",
       "  <thead>\n",
       "    <tr style=\"text-align: right;\">\n",
       "      <th></th>\n",
       "      <th>cut_id</th>\n",
       "      <th>cut</th>\n",
       "    </tr>\n",
       "  </thead>\n",
       "  <tbody>\n",
       "    <tr>\n",
       "      <th>0</th>\n",
       "      <td>388655e25e91872329272fc10128ef5354b3b19a05d7e8...</td>\n",
       "      <td>Very Good</td>\n",
       "    </tr>\n",
       "    <tr>\n",
       "      <th>1</th>\n",
       "      <td>4e3cfaa334cbafb57a399a98fad8d3812ece460018f457...</td>\n",
       "      <td>Ideal</td>\n",
       "    </tr>\n",
       "    <tr>\n",
       "      <th>2</th>\n",
       "      <td>c939327ca16dcf97ca32521d8b834bf1de16573d21deda...</td>\n",
       "      <td>Good</td>\n",
       "    </tr>\n",
       "    <tr>\n",
       "      <th>3</th>\n",
       "      <td>de88c121a82a06352bf1aaceba20578356408a334ba046...</td>\n",
       "      <td>Premium</td>\n",
       "    </tr>\n",
       "    <tr>\n",
       "      <th>4</th>\n",
       "      <td>f7b19afcde965ea4942b878d266f89f8ba9a5a833e60f7...</td>\n",
       "      <td>Fair</td>\n",
       "    </tr>\n",
       "  </tbody>\n",
       "</table>\n",
       "</div>"
      ],
      "text/plain": [
       "                                              cut_id        cut\n",
       "0  388655e25e91872329272fc10128ef5354b3b19a05d7e8...  Very Good\n",
       "1  4e3cfaa334cbafb57a399a98fad8d3812ece460018f457...      Ideal\n",
       "2  c939327ca16dcf97ca32521d8b834bf1de16573d21deda...       Good\n",
       "3  de88c121a82a06352bf1aaceba20578356408a334ba046...    Premium\n",
       "4  f7b19afcde965ea4942b878d266f89f8ba9a5a833e60f7...       Fair"
      ]
     },
     "execution_count": 10,
     "metadata": {},
     "output_type": "execute_result"
    }
   ],
   "source": [
    "#df_cut.info() #compuesto por 5 filas y 2 columnas sin nulos\n",
    "df_cut.head()"
   ]
  },
  {
   "cell_type": "code",
   "execution_count": 11,
   "id": "032eefe0",
   "metadata": {},
   "outputs": [],
   "source": [
    "df_dimensions = pd.read_csv('./data/diamonds_dimensions_202208201409.csv')"
   ]
  },
  {
   "cell_type": "code",
   "execution_count": 12,
   "id": "8e3e3244",
   "metadata": {},
   "outputs": [
    {
     "data": {
      "text/html": [
       "<div>\n",
       "<style scoped>\n",
       "    .dataframe tbody tr th:only-of-type {\n",
       "        vertical-align: middle;\n",
       "    }\n",
       "\n",
       "    .dataframe tbody tr th {\n",
       "        vertical-align: top;\n",
       "    }\n",
       "\n",
       "    .dataframe thead th {\n",
       "        text-align: right;\n",
       "    }\n",
       "</style>\n",
       "<table border=\"1\" class=\"dataframe\">\n",
       "  <thead>\n",
       "    <tr style=\"text-align: right;\">\n",
       "      <th></th>\n",
       "      <th>index_id</th>\n",
       "      <th>depth</th>\n",
       "      <th>table</th>\n",
       "      <th>x</th>\n",
       "      <th>y</th>\n",
       "      <th>z</th>\n",
       "    </tr>\n",
       "  </thead>\n",
       "  <tbody>\n",
       "    <tr>\n",
       "      <th>0</th>\n",
       "      <td>5feceb66ffc86f38d952786c6d696c79c2dbc239dd4e91...</td>\n",
       "      <td>62.4</td>\n",
       "      <td>58.0</td>\n",
       "      <td>6.83</td>\n",
       "      <td>6.79</td>\n",
       "      <td>4.25</td>\n",
       "    </tr>\n",
       "    <tr>\n",
       "      <th>1</th>\n",
       "      <td>6b86b273ff34fce19d6b804eff5a3f5747ada4eaa22f1d...</td>\n",
       "      <td>63.0</td>\n",
       "      <td>57.0</td>\n",
       "      <td>4.35</td>\n",
       "      <td>4.38</td>\n",
       "      <td>2.75</td>\n",
       "    </tr>\n",
       "    <tr>\n",
       "      <th>2</th>\n",
       "      <td>d4735e3a265e16eee03f59718b9b5d03019c07d8b6c51f...</td>\n",
       "      <td>65.5</td>\n",
       "      <td>55.0</td>\n",
       "      <td>5.62</td>\n",
       "      <td>5.53</td>\n",
       "      <td>3.65</td>\n",
       "    </tr>\n",
       "    <tr>\n",
       "      <th>3</th>\n",
       "      <td>4e07408562bedb8b60ce05c1decfe3ad16b72230967de0...</td>\n",
       "      <td>63.8</td>\n",
       "      <td>56.0</td>\n",
       "      <td>4.68</td>\n",
       "      <td>4.72</td>\n",
       "      <td>3.00</td>\n",
       "    </tr>\n",
       "    <tr>\n",
       "      <th>4</th>\n",
       "      <td>4b227777d4dd1fc61c6f884f48641d02b4d121d3fd328c...</td>\n",
       "      <td>60.5</td>\n",
       "      <td>59.0</td>\n",
       "      <td>6.55</td>\n",
       "      <td>6.51</td>\n",
       "      <td>3.95</td>\n",
       "    </tr>\n",
       "  </tbody>\n",
       "</table>\n",
       "</div>"
      ],
      "text/plain": [
       "                                            index_id  depth  table     x  \\\n",
       "0  5feceb66ffc86f38d952786c6d696c79c2dbc239dd4e91...   62.4   58.0  6.83   \n",
       "1  6b86b273ff34fce19d6b804eff5a3f5747ada4eaa22f1d...   63.0   57.0  4.35   \n",
       "2  d4735e3a265e16eee03f59718b9b5d03019c07d8b6c51f...   65.5   55.0  5.62   \n",
       "3  4e07408562bedb8b60ce05c1decfe3ad16b72230967de0...   63.8   56.0  4.68   \n",
       "4  4b227777d4dd1fc61c6f884f48641d02b4d121d3fd328c...   60.5   59.0  6.55   \n",
       "\n",
       "      y     z  \n",
       "0  6.79  4.25  \n",
       "1  4.38  2.75  \n",
       "2  5.53  3.65  \n",
       "3  4.72  3.00  \n",
       "4  6.51  3.95  "
      ]
     },
     "execution_count": 12,
     "metadata": {},
     "output_type": "execute_result"
    }
   ],
   "source": [
    "#df_dimensions.info() #compuesto por 40.455 filas y 6 columnas sin nulos\n",
    "df_dimensions.head()"
   ]
  },
  {
   "cell_type": "code",
   "execution_count": 13,
   "id": "d0a02ecc",
   "metadata": {},
   "outputs": [],
   "source": [
    "df_properties = pd.read_csv('./data/diamonds_properties_202208201409.csv')"
   ]
  },
  {
   "cell_type": "code",
   "execution_count": 14,
   "id": "daabcc56",
   "metadata": {},
   "outputs": [
    {
     "data": {
      "text/html": [
       "<div>\n",
       "<style scoped>\n",
       "    .dataframe tbody tr th:only-of-type {\n",
       "        vertical-align: middle;\n",
       "    }\n",
       "\n",
       "    .dataframe tbody tr th {\n",
       "        vertical-align: top;\n",
       "    }\n",
       "\n",
       "    .dataframe thead th {\n",
       "        text-align: right;\n",
       "    }\n",
       "</style>\n",
       "<table border=\"1\" class=\"dataframe\">\n",
       "  <thead>\n",
       "    <tr style=\"text-align: right;\">\n",
       "      <th></th>\n",
       "      <th>index_id</th>\n",
       "      <th>cut_id</th>\n",
       "      <th>color_id</th>\n",
       "      <th>clarity_id</th>\n",
       "    </tr>\n",
       "  </thead>\n",
       "  <tbody>\n",
       "    <tr>\n",
       "      <th>0</th>\n",
       "      <td>5feceb66ffc86f38d952786c6d696c79c2dbc239dd4e91...</td>\n",
       "      <td>de88c121a82a06352bf1aaceba20578356408a334ba046...</td>\n",
       "      <td>6da43b944e494e885e69af021f93c6d9331c78aa228084...</td>\n",
       "      <td>f0b2a1d0db08cc64f85d74f1d15c2191e0e49039f4d8f2...</td>\n",
       "    </tr>\n",
       "    <tr>\n",
       "      <th>1</th>\n",
       "      <td>6b86b273ff34fce19d6b804eff5a3f5747ada4eaa22f1d...</td>\n",
       "      <td>388655e25e91872329272fc10128ef5354b3b19a05d7e8...</td>\n",
       "      <td>44bd7ae60f478fae1061e11a7739f4b94d1daf917982d3...</td>\n",
       "      <td>f0b2a1d0db08cc64f85d74f1d15c2191e0e49039f4d8f2...</td>\n",
       "    </tr>\n",
       "    <tr>\n",
       "      <th>2</th>\n",
       "      <td>d4735e3a265e16eee03f59718b9b5d03019c07d8b6c51f...</td>\n",
       "      <td>f7b19afcde965ea4942b878d266f89f8ba9a5a833e60f7...</td>\n",
       "      <td>333e0a1e27815d0ceee55c473fe3dc93d56c63e3bee2b3...</td>\n",
       "      <td>ef736c1f91cd1900c3d9cde925b1bf4f013adc0211a9ee...</td>\n",
       "    </tr>\n",
       "    <tr>\n",
       "      <th>3</th>\n",
       "      <td>4e07408562bedb8b60ce05c1decfe3ad16b72230967de0...</td>\n",
       "      <td>c939327ca16dcf97ca32521d8b834bf1de16573d21deda...</td>\n",
       "      <td>3f39d5c348e5b79d06e842c114e6cc571583bbf44e4b0e...</td>\n",
       "      <td>bd4f4a250da88f87729febc739ae97f439a14f9d38f0e3...</td>\n",
       "    </tr>\n",
       "    <tr>\n",
       "      <th>4</th>\n",
       "      <td>4b227777d4dd1fc61c6f884f48641d02b4d121d3fd328c...</td>\n",
       "      <td>4e3cfaa334cbafb57a399a98fad8d3812ece460018f457...</td>\n",
       "      <td>333e0a1e27815d0ceee55c473fe3dc93d56c63e3bee2b3...</td>\n",
       "      <td>bd4f4a250da88f87729febc739ae97f439a14f9d38f0e3...</td>\n",
       "    </tr>\n",
       "  </tbody>\n",
       "</table>\n",
       "</div>"
      ],
      "text/plain": [
       "                                            index_id  \\\n",
       "0  5feceb66ffc86f38d952786c6d696c79c2dbc239dd4e91...   \n",
       "1  6b86b273ff34fce19d6b804eff5a3f5747ada4eaa22f1d...   \n",
       "2  d4735e3a265e16eee03f59718b9b5d03019c07d8b6c51f...   \n",
       "3  4e07408562bedb8b60ce05c1decfe3ad16b72230967de0...   \n",
       "4  4b227777d4dd1fc61c6f884f48641d02b4d121d3fd328c...   \n",
       "\n",
       "                                              cut_id  \\\n",
       "0  de88c121a82a06352bf1aaceba20578356408a334ba046...   \n",
       "1  388655e25e91872329272fc10128ef5354b3b19a05d7e8...   \n",
       "2  f7b19afcde965ea4942b878d266f89f8ba9a5a833e60f7...   \n",
       "3  c939327ca16dcf97ca32521d8b834bf1de16573d21deda...   \n",
       "4  4e3cfaa334cbafb57a399a98fad8d3812ece460018f457...   \n",
       "\n",
       "                                            color_id  \\\n",
       "0  6da43b944e494e885e69af021f93c6d9331c78aa228084...   \n",
       "1  44bd7ae60f478fae1061e11a7739f4b94d1daf917982d3...   \n",
       "2  333e0a1e27815d0ceee55c473fe3dc93d56c63e3bee2b3...   \n",
       "3  3f39d5c348e5b79d06e842c114e6cc571583bbf44e4b0e...   \n",
       "4  333e0a1e27815d0ceee55c473fe3dc93d56c63e3bee2b3...   \n",
       "\n",
       "                                          clarity_id  \n",
       "0  f0b2a1d0db08cc64f85d74f1d15c2191e0e49039f4d8f2...  \n",
       "1  f0b2a1d0db08cc64f85d74f1d15c2191e0e49039f4d8f2...  \n",
       "2  ef736c1f91cd1900c3d9cde925b1bf4f013adc0211a9ee...  \n",
       "3  bd4f4a250da88f87729febc739ae97f439a14f9d38f0e3...  \n",
       "4  bd4f4a250da88f87729febc739ae97f439a14f9d38f0e3...  "
      ]
     },
     "execution_count": 14,
     "metadata": {},
     "output_type": "execute_result"
    }
   ],
   "source": [
    "#df_properties.info() #compuesto de 40.455 filas y 4 columnas\n",
    "df_properties.head()"
   ]
  },
  {
   "cell_type": "code",
   "execution_count": 15,
   "id": "35a3e0a5",
   "metadata": {},
   "outputs": [],
   "source": [
    "df_transactional = pd.read_csv('./data/diamonds_transactional_202208201409.csv')"
   ]
  },
  {
   "cell_type": "code",
   "execution_count": 16,
   "id": "5442cb36",
   "metadata": {},
   "outputs": [
    {
     "data": {
      "text/html": [
       "<div>\n",
       "<style scoped>\n",
       "    .dataframe tbody tr th:only-of-type {\n",
       "        vertical-align: middle;\n",
       "    }\n",
       "\n",
       "    .dataframe tbody tr th {\n",
       "        vertical-align: top;\n",
       "    }\n",
       "\n",
       "    .dataframe thead th {\n",
       "        text-align: right;\n",
       "    }\n",
       "</style>\n",
       "<table border=\"1\" class=\"dataframe\">\n",
       "  <thead>\n",
       "    <tr style=\"text-align: right;\">\n",
       "      <th></th>\n",
       "      <th>index_id</th>\n",
       "      <th>price</th>\n",
       "      <th>city_id</th>\n",
       "      <th>carat</th>\n",
       "    </tr>\n",
       "  </thead>\n",
       "  <tbody>\n",
       "    <tr>\n",
       "      <th>0</th>\n",
       "      <td>5feceb66ffc86f38d952786c6d696c79c2dbc239dd4e91...</td>\n",
       "      <td>4268</td>\n",
       "      <td>89c7286890f7347ab235234e74d406596a127ae3679042...</td>\n",
       "      <td>1.21</td>\n",
       "    </tr>\n",
       "    <tr>\n",
       "      <th>1</th>\n",
       "      <td>6b86b273ff34fce19d6b804eff5a3f5747ada4eaa22f1d...</td>\n",
       "      <td>505</td>\n",
       "      <td>ca3aa21a5b70c3e88cc6336682c8c7da928a0c66a5ead4...</td>\n",
       "      <td>0.32</td>\n",
       "    </tr>\n",
       "    <tr>\n",
       "      <th>2</th>\n",
       "      <td>d4735e3a265e16eee03f59718b9b5d03019c07d8b6c51f...</td>\n",
       "      <td>2686</td>\n",
       "      <td>ecc0e7dc084f141b29479058967d0bc07dee25d9690a98...</td>\n",
       "      <td>0.71</td>\n",
       "    </tr>\n",
       "    <tr>\n",
       "      <th>3</th>\n",
       "      <td>4e07408562bedb8b60ce05c1decfe3ad16b72230967de0...</td>\n",
       "      <td>738</td>\n",
       "      <td>5a59ef2e40c5f89adb8c0c6ad0a8019b0e252fff530cf2...</td>\n",
       "      <td>0.41</td>\n",
       "    </tr>\n",
       "    <tr>\n",
       "      <th>4</th>\n",
       "      <td>4b227777d4dd1fc61c6f884f48641d02b4d121d3fd328c...</td>\n",
       "      <td>4882</td>\n",
       "      <td>6c425048aa7badd9d84615bd8620ca1864efd81cfdb69d...</td>\n",
       "      <td>1.02</td>\n",
       "    </tr>\n",
       "  </tbody>\n",
       "</table>\n",
       "</div>"
      ],
      "text/plain": [
       "                                            index_id  price  \\\n",
       "0  5feceb66ffc86f38d952786c6d696c79c2dbc239dd4e91...   4268   \n",
       "1  6b86b273ff34fce19d6b804eff5a3f5747ada4eaa22f1d...    505   \n",
       "2  d4735e3a265e16eee03f59718b9b5d03019c07d8b6c51f...   2686   \n",
       "3  4e07408562bedb8b60ce05c1decfe3ad16b72230967de0...    738   \n",
       "4  4b227777d4dd1fc61c6f884f48641d02b4d121d3fd328c...   4882   \n",
       "\n",
       "                                             city_id  carat  \n",
       "0  89c7286890f7347ab235234e74d406596a127ae3679042...   1.21  \n",
       "1  ca3aa21a5b70c3e88cc6336682c8c7da928a0c66a5ead4...   0.32  \n",
       "2  ecc0e7dc084f141b29479058967d0bc07dee25d9690a98...   0.71  \n",
       "3  5a59ef2e40c5f89adb8c0c6ad0a8019b0e252fff530cf2...   0.41  \n",
       "4  6c425048aa7badd9d84615bd8620ca1864efd81cfdb69d...   1.02  "
      ]
     },
     "execution_count": 16,
     "metadata": {},
     "output_type": "execute_result"
    }
   ],
   "source": [
    "#df_transactional.info() #compuesto de 40.455 filas y 4 columnas sin nulos\n",
    "df_transactional.head()"
   ]
  },
  {
   "cell_type": "markdown",
   "id": "9805f824",
   "metadata": {},
   "source": [
    "### Podemos observar cómo el df_properties contiene el enlace de unión entre todos los dfs menos del df_city que se une con df_transactional. Pasamos a realizar un merge de todos los dfs"
   ]
  },
  {
   "cell_type": "markdown",
   "id": "c0f7f415",
   "metadata": {},
   "source": [
    "# 2º Merge de todos los DFs y orden de columnas"
   ]
  },
  {
   "cell_type": "code",
   "execution_count": 17,
   "id": "57b15ada",
   "metadata": {},
   "outputs": [],
   "source": [
    "df_diamonds = df_properties.merge(\n",
    "    df_clarity, on=\"clarity_id\", how=\"left\").merge(\n",
    "    df_color, on=\"color_id\", how=\"left\").merge(\n",
    "    df_cut, on=\"cut_id\", how=\"left\").merge(\n",
    "    df_dimensions, on=\"index_id\", how=\"left\").merge(\n",
    "    df_transactional, on=\"index_id\", how=\"left\").merge(df_city, on=\"city_id\", how=\"left\")"
   ]
  },
  {
   "cell_type": "code",
   "execution_count": 18,
   "id": "6a7b7e27",
   "metadata": {},
   "outputs": [
    {
     "name": "stdout",
     "output_type": "stream",
     "text": [
      "<class 'pandas.core.frame.DataFrame'>\n",
      "Int64Index: 40455 entries, 0 to 40454\n",
      "Data columns (total 16 columns):\n",
      " #   Column      Non-Null Count  Dtype  \n",
      "---  ------      --------------  -----  \n",
      " 0   index_id    40455 non-null  object \n",
      " 1   cut_id      40455 non-null  object \n",
      " 2   color_id    40455 non-null  object \n",
      " 3   clarity_id  40455 non-null  object \n",
      " 4   clarity     40455 non-null  object \n",
      " 5   color       40455 non-null  object \n",
      " 6   cut         40455 non-null  object \n",
      " 7   depth       40455 non-null  float64\n",
      " 8   table       40455 non-null  float64\n",
      " 9   x           40455 non-null  float64\n",
      " 10  y           40455 non-null  float64\n",
      " 11  z           40455 non-null  float64\n",
      " 12  price       40455 non-null  int64  \n",
      " 13  city_id     40455 non-null  object \n",
      " 14  carat       40455 non-null  float64\n",
      " 15  city        40455 non-null  object \n",
      "dtypes: float64(6), int64(1), object(9)\n",
      "memory usage: 5.2+ MB\n"
     ]
    },
    {
     "data": {
      "text/html": [
       "<div>\n",
       "<style scoped>\n",
       "    .dataframe tbody tr th:only-of-type {\n",
       "        vertical-align: middle;\n",
       "    }\n",
       "\n",
       "    .dataframe tbody tr th {\n",
       "        vertical-align: top;\n",
       "    }\n",
       "\n",
       "    .dataframe thead th {\n",
       "        text-align: right;\n",
       "    }\n",
       "</style>\n",
       "<table border=\"1\" class=\"dataframe\">\n",
       "  <thead>\n",
       "    <tr style=\"text-align: right;\">\n",
       "      <th></th>\n",
       "      <th>index_id</th>\n",
       "      <th>cut_id</th>\n",
       "      <th>color_id</th>\n",
       "      <th>clarity_id</th>\n",
       "      <th>clarity</th>\n",
       "      <th>color</th>\n",
       "      <th>cut</th>\n",
       "      <th>depth</th>\n",
       "      <th>table</th>\n",
       "      <th>x</th>\n",
       "      <th>y</th>\n",
       "      <th>z</th>\n",
       "      <th>price</th>\n",
       "      <th>city_id</th>\n",
       "      <th>carat</th>\n",
       "      <th>city</th>\n",
       "    </tr>\n",
       "  </thead>\n",
       "  <tbody>\n",
       "    <tr>\n",
       "      <th>0</th>\n",
       "      <td>5feceb66ffc86f38d952786c6d696c79c2dbc239dd4e91...</td>\n",
       "      <td>de88c121a82a06352bf1aaceba20578356408a334ba046...</td>\n",
       "      <td>6da43b944e494e885e69af021f93c6d9331c78aa228084...</td>\n",
       "      <td>f0b2a1d0db08cc64f85d74f1d15c2191e0e49039f4d8f2...</td>\n",
       "      <td>VS2</td>\n",
       "      <td>J</td>\n",
       "      <td>Premium</td>\n",
       "      <td>62.4</td>\n",
       "      <td>58.0</td>\n",
       "      <td>6.83</td>\n",
       "      <td>6.79</td>\n",
       "      <td>4.25</td>\n",
       "      <td>4268</td>\n",
       "      <td>89c7286890f7347ab235234e74d406596a127ae3679042...</td>\n",
       "      <td>1.21</td>\n",
       "      <td>Kimberly</td>\n",
       "    </tr>\n",
       "    <tr>\n",
       "      <th>1</th>\n",
       "      <td>6b86b273ff34fce19d6b804eff5a3f5747ada4eaa22f1d...</td>\n",
       "      <td>388655e25e91872329272fc10128ef5354b3b19a05d7e8...</td>\n",
       "      <td>44bd7ae60f478fae1061e11a7739f4b94d1daf917982d3...</td>\n",
       "      <td>f0b2a1d0db08cc64f85d74f1d15c2191e0e49039f4d8f2...</td>\n",
       "      <td>VS2</td>\n",
       "      <td>H</td>\n",
       "      <td>Very Good</td>\n",
       "      <td>63.0</td>\n",
       "      <td>57.0</td>\n",
       "      <td>4.35</td>\n",
       "      <td>4.38</td>\n",
       "      <td>2.75</td>\n",
       "      <td>505</td>\n",
       "      <td>ca3aa21a5b70c3e88cc6336682c8c7da928a0c66a5ead4...</td>\n",
       "      <td>0.32</td>\n",
       "      <td>Antwerp</td>\n",
       "    </tr>\n",
       "    <tr>\n",
       "      <th>2</th>\n",
       "      <td>d4735e3a265e16eee03f59718b9b5d03019c07d8b6c51f...</td>\n",
       "      <td>f7b19afcde965ea4942b878d266f89f8ba9a5a833e60f7...</td>\n",
       "      <td>333e0a1e27815d0ceee55c473fe3dc93d56c63e3bee2b3...</td>\n",
       "      <td>ef736c1f91cd1900c3d9cde925b1bf4f013adc0211a9ee...</td>\n",
       "      <td>VS1</td>\n",
       "      <td>G</td>\n",
       "      <td>Fair</td>\n",
       "      <td>65.5</td>\n",
       "      <td>55.0</td>\n",
       "      <td>5.62</td>\n",
       "      <td>5.53</td>\n",
       "      <td>3.65</td>\n",
       "      <td>2686</td>\n",
       "      <td>ecc0e7dc084f141b29479058967d0bc07dee25d9690a98...</td>\n",
       "      <td>0.71</td>\n",
       "      <td>London</td>\n",
       "    </tr>\n",
       "    <tr>\n",
       "      <th>3</th>\n",
       "      <td>4e07408562bedb8b60ce05c1decfe3ad16b72230967de0...</td>\n",
       "      <td>c939327ca16dcf97ca32521d8b834bf1de16573d21deda...</td>\n",
       "      <td>3f39d5c348e5b79d06e842c114e6cc571583bbf44e4b0e...</td>\n",
       "      <td>bd4f4a250da88f87729febc739ae97f439a14f9d38f0e3...</td>\n",
       "      <td>SI1</td>\n",
       "      <td>D</td>\n",
       "      <td>Good</td>\n",
       "      <td>63.8</td>\n",
       "      <td>56.0</td>\n",
       "      <td>4.68</td>\n",
       "      <td>4.72</td>\n",
       "      <td>3.00</td>\n",
       "      <td>738</td>\n",
       "      <td>5a59ef2e40c5f89adb8c0c6ad0a8019b0e252fff530cf2...</td>\n",
       "      <td>0.41</td>\n",
       "      <td>New York City</td>\n",
       "    </tr>\n",
       "    <tr>\n",
       "      <th>4</th>\n",
       "      <td>4b227777d4dd1fc61c6f884f48641d02b4d121d3fd328c...</td>\n",
       "      <td>4e3cfaa334cbafb57a399a98fad8d3812ece460018f457...</td>\n",
       "      <td>333e0a1e27815d0ceee55c473fe3dc93d56c63e3bee2b3...</td>\n",
       "      <td>bd4f4a250da88f87729febc739ae97f439a14f9d38f0e3...</td>\n",
       "      <td>SI1</td>\n",
       "      <td>G</td>\n",
       "      <td>Ideal</td>\n",
       "      <td>60.5</td>\n",
       "      <td>59.0</td>\n",
       "      <td>6.55</td>\n",
       "      <td>6.51</td>\n",
       "      <td>3.95</td>\n",
       "      <td>4882</td>\n",
       "      <td>6c425048aa7badd9d84615bd8620ca1864efd81cfdb69d...</td>\n",
       "      <td>1.02</td>\n",
       "      <td>Dubai</td>\n",
       "    </tr>\n",
       "  </tbody>\n",
       "</table>\n",
       "</div>"
      ],
      "text/plain": [
       "                                            index_id  \\\n",
       "0  5feceb66ffc86f38d952786c6d696c79c2dbc239dd4e91...   \n",
       "1  6b86b273ff34fce19d6b804eff5a3f5747ada4eaa22f1d...   \n",
       "2  d4735e3a265e16eee03f59718b9b5d03019c07d8b6c51f...   \n",
       "3  4e07408562bedb8b60ce05c1decfe3ad16b72230967de0...   \n",
       "4  4b227777d4dd1fc61c6f884f48641d02b4d121d3fd328c...   \n",
       "\n",
       "                                              cut_id  \\\n",
       "0  de88c121a82a06352bf1aaceba20578356408a334ba046...   \n",
       "1  388655e25e91872329272fc10128ef5354b3b19a05d7e8...   \n",
       "2  f7b19afcde965ea4942b878d266f89f8ba9a5a833e60f7...   \n",
       "3  c939327ca16dcf97ca32521d8b834bf1de16573d21deda...   \n",
       "4  4e3cfaa334cbafb57a399a98fad8d3812ece460018f457...   \n",
       "\n",
       "                                            color_id  \\\n",
       "0  6da43b944e494e885e69af021f93c6d9331c78aa228084...   \n",
       "1  44bd7ae60f478fae1061e11a7739f4b94d1daf917982d3...   \n",
       "2  333e0a1e27815d0ceee55c473fe3dc93d56c63e3bee2b3...   \n",
       "3  3f39d5c348e5b79d06e842c114e6cc571583bbf44e4b0e...   \n",
       "4  333e0a1e27815d0ceee55c473fe3dc93d56c63e3bee2b3...   \n",
       "\n",
       "                                          clarity_id clarity color        cut  \\\n",
       "0  f0b2a1d0db08cc64f85d74f1d15c2191e0e49039f4d8f2...     VS2     J    Premium   \n",
       "1  f0b2a1d0db08cc64f85d74f1d15c2191e0e49039f4d8f2...     VS2     H  Very Good   \n",
       "2  ef736c1f91cd1900c3d9cde925b1bf4f013adc0211a9ee...     VS1     G       Fair   \n",
       "3  bd4f4a250da88f87729febc739ae97f439a14f9d38f0e3...     SI1     D       Good   \n",
       "4  bd4f4a250da88f87729febc739ae97f439a14f9d38f0e3...     SI1     G      Ideal   \n",
       "\n",
       "   depth  table     x     y     z  price  \\\n",
       "0   62.4   58.0  6.83  6.79  4.25   4268   \n",
       "1   63.0   57.0  4.35  4.38  2.75    505   \n",
       "2   65.5   55.0  5.62  5.53  3.65   2686   \n",
       "3   63.8   56.0  4.68  4.72  3.00    738   \n",
       "4   60.5   59.0  6.55  6.51  3.95   4882   \n",
       "\n",
       "                                             city_id  carat           city  \n",
       "0  89c7286890f7347ab235234e74d406596a127ae3679042...   1.21       Kimberly  \n",
       "1  ca3aa21a5b70c3e88cc6336682c8c7da928a0c66a5ead4...   0.32        Antwerp  \n",
       "2  ecc0e7dc084f141b29479058967d0bc07dee25d9690a98...   0.71         London  \n",
       "3  5a59ef2e40c5f89adb8c0c6ad0a8019b0e252fff530cf2...   0.41  New York City  \n",
       "4  6c425048aa7badd9d84615bd8620ca1864efd81cfdb69d...   1.02          Dubai  "
      ]
     },
     "execution_count": 18,
     "metadata": {},
     "output_type": "execute_result"
    }
   ],
   "source": [
    "df_diamonds.info() #compuesto por las 40.455 filas y 16 columnas sin nulos.\n",
    "df_diamonds.head()"
   ]
  },
  {
   "cell_type": "code",
   "execution_count": 19,
   "id": "a25f2095",
   "metadata": {},
   "outputs": [],
   "source": [
    "#reordenamos el orden de las columnas\n",
    "df_diamonds = df_diamonds[['city', 'clarity', 'color', 'cut', 'depth', 'table', 'x', 'y', 'z', 'price', 'carat', 'index_id', 'cut_id', 'color_id', 'clarity_id', 'city_id']]"
   ]
  },
  {
   "cell_type": "code",
   "execution_count": 20,
   "id": "a02b80fc",
   "metadata": {},
   "outputs": [
    {
     "data": {
      "text/html": [
       "<div>\n",
       "<style scoped>\n",
       "    .dataframe tbody tr th:only-of-type {\n",
       "        vertical-align: middle;\n",
       "    }\n",
       "\n",
       "    .dataframe tbody tr th {\n",
       "        vertical-align: top;\n",
       "    }\n",
       "\n",
       "    .dataframe thead th {\n",
       "        text-align: right;\n",
       "    }\n",
       "</style>\n",
       "<table border=\"1\" class=\"dataframe\">\n",
       "  <thead>\n",
       "    <tr style=\"text-align: right;\">\n",
       "      <th></th>\n",
       "      <th>city</th>\n",
       "      <th>clarity</th>\n",
       "      <th>color</th>\n",
       "      <th>cut</th>\n",
       "      <th>depth</th>\n",
       "      <th>table</th>\n",
       "      <th>x</th>\n",
       "      <th>y</th>\n",
       "      <th>z</th>\n",
       "      <th>price</th>\n",
       "      <th>carat</th>\n",
       "      <th>index_id</th>\n",
       "      <th>cut_id</th>\n",
       "      <th>color_id</th>\n",
       "      <th>clarity_id</th>\n",
       "      <th>city_id</th>\n",
       "    </tr>\n",
       "  </thead>\n",
       "  <tbody>\n",
       "    <tr>\n",
       "      <th>0</th>\n",
       "      <td>Kimberly</td>\n",
       "      <td>VS2</td>\n",
       "      <td>J</td>\n",
       "      <td>Premium</td>\n",
       "      <td>62.4</td>\n",
       "      <td>58.0</td>\n",
       "      <td>6.83</td>\n",
       "      <td>6.79</td>\n",
       "      <td>4.25</td>\n",
       "      <td>4268</td>\n",
       "      <td>1.21</td>\n",
       "      <td>5feceb66ffc86f38d952786c6d696c79c2dbc239dd4e91...</td>\n",
       "      <td>de88c121a82a06352bf1aaceba20578356408a334ba046...</td>\n",
       "      <td>6da43b944e494e885e69af021f93c6d9331c78aa228084...</td>\n",
       "      <td>f0b2a1d0db08cc64f85d74f1d15c2191e0e49039f4d8f2...</td>\n",
       "      <td>89c7286890f7347ab235234e74d406596a127ae3679042...</td>\n",
       "    </tr>\n",
       "    <tr>\n",
       "      <th>1</th>\n",
       "      <td>Antwerp</td>\n",
       "      <td>VS2</td>\n",
       "      <td>H</td>\n",
       "      <td>Very Good</td>\n",
       "      <td>63.0</td>\n",
       "      <td>57.0</td>\n",
       "      <td>4.35</td>\n",
       "      <td>4.38</td>\n",
       "      <td>2.75</td>\n",
       "      <td>505</td>\n",
       "      <td>0.32</td>\n",
       "      <td>6b86b273ff34fce19d6b804eff5a3f5747ada4eaa22f1d...</td>\n",
       "      <td>388655e25e91872329272fc10128ef5354b3b19a05d7e8...</td>\n",
       "      <td>44bd7ae60f478fae1061e11a7739f4b94d1daf917982d3...</td>\n",
       "      <td>f0b2a1d0db08cc64f85d74f1d15c2191e0e49039f4d8f2...</td>\n",
       "      <td>ca3aa21a5b70c3e88cc6336682c8c7da928a0c66a5ead4...</td>\n",
       "    </tr>\n",
       "    <tr>\n",
       "      <th>2</th>\n",
       "      <td>London</td>\n",
       "      <td>VS1</td>\n",
       "      <td>G</td>\n",
       "      <td>Fair</td>\n",
       "      <td>65.5</td>\n",
       "      <td>55.0</td>\n",
       "      <td>5.62</td>\n",
       "      <td>5.53</td>\n",
       "      <td>3.65</td>\n",
       "      <td>2686</td>\n",
       "      <td>0.71</td>\n",
       "      <td>d4735e3a265e16eee03f59718b9b5d03019c07d8b6c51f...</td>\n",
       "      <td>f7b19afcde965ea4942b878d266f89f8ba9a5a833e60f7...</td>\n",
       "      <td>333e0a1e27815d0ceee55c473fe3dc93d56c63e3bee2b3...</td>\n",
       "      <td>ef736c1f91cd1900c3d9cde925b1bf4f013adc0211a9ee...</td>\n",
       "      <td>ecc0e7dc084f141b29479058967d0bc07dee25d9690a98...</td>\n",
       "    </tr>\n",
       "    <tr>\n",
       "      <th>3</th>\n",
       "      <td>New York City</td>\n",
       "      <td>SI1</td>\n",
       "      <td>D</td>\n",
       "      <td>Good</td>\n",
       "      <td>63.8</td>\n",
       "      <td>56.0</td>\n",
       "      <td>4.68</td>\n",
       "      <td>4.72</td>\n",
       "      <td>3.00</td>\n",
       "      <td>738</td>\n",
       "      <td>0.41</td>\n",
       "      <td>4e07408562bedb8b60ce05c1decfe3ad16b72230967de0...</td>\n",
       "      <td>c939327ca16dcf97ca32521d8b834bf1de16573d21deda...</td>\n",
       "      <td>3f39d5c348e5b79d06e842c114e6cc571583bbf44e4b0e...</td>\n",
       "      <td>bd4f4a250da88f87729febc739ae97f439a14f9d38f0e3...</td>\n",
       "      <td>5a59ef2e40c5f89adb8c0c6ad0a8019b0e252fff530cf2...</td>\n",
       "    </tr>\n",
       "    <tr>\n",
       "      <th>4</th>\n",
       "      <td>Dubai</td>\n",
       "      <td>SI1</td>\n",
       "      <td>G</td>\n",
       "      <td>Ideal</td>\n",
       "      <td>60.5</td>\n",
       "      <td>59.0</td>\n",
       "      <td>6.55</td>\n",
       "      <td>6.51</td>\n",
       "      <td>3.95</td>\n",
       "      <td>4882</td>\n",
       "      <td>1.02</td>\n",
       "      <td>4b227777d4dd1fc61c6f884f48641d02b4d121d3fd328c...</td>\n",
       "      <td>4e3cfaa334cbafb57a399a98fad8d3812ece460018f457...</td>\n",
       "      <td>333e0a1e27815d0ceee55c473fe3dc93d56c63e3bee2b3...</td>\n",
       "      <td>bd4f4a250da88f87729febc739ae97f439a14f9d38f0e3...</td>\n",
       "      <td>6c425048aa7badd9d84615bd8620ca1864efd81cfdb69d...</td>\n",
       "    </tr>\n",
       "    <tr>\n",
       "      <th>...</th>\n",
       "      <td>...</td>\n",
       "      <td>...</td>\n",
       "      <td>...</td>\n",
       "      <td>...</td>\n",
       "      <td>...</td>\n",
       "      <td>...</td>\n",
       "      <td>...</td>\n",
       "      <td>...</td>\n",
       "      <td>...</td>\n",
       "      <td>...</td>\n",
       "      <td>...</td>\n",
       "      <td>...</td>\n",
       "      <td>...</td>\n",
       "      <td>...</td>\n",
       "      <td>...</td>\n",
       "      <td>...</td>\n",
       "    </tr>\n",
       "    <tr>\n",
       "      <th>40450</th>\n",
       "      <td>New York City</td>\n",
       "      <td>VS1</td>\n",
       "      <td>G</td>\n",
       "      <td>Ideal</td>\n",
       "      <td>62.7</td>\n",
       "      <td>57.0</td>\n",
       "      <td>7.10</td>\n",
       "      <td>7.04</td>\n",
       "      <td>4.43</td>\n",
       "      <td>10070</td>\n",
       "      <td>1.34</td>\n",
       "      <td>f0bc79169405ebeb24e308055156b946ffd819db9b4f75...</td>\n",
       "      <td>4e3cfaa334cbafb57a399a98fad8d3812ece460018f457...</td>\n",
       "      <td>333e0a1e27815d0ceee55c473fe3dc93d56c63e3bee2b3...</td>\n",
       "      <td>ef736c1f91cd1900c3d9cde925b1bf4f013adc0211a9ee...</td>\n",
       "      <td>5a59ef2e40c5f89adb8c0c6ad0a8019b0e252fff530cf2...</td>\n",
       "    </tr>\n",
       "    <tr>\n",
       "      <th>40451</th>\n",
       "      <td>Zurich</td>\n",
       "      <td>SI2</td>\n",
       "      <td>F</td>\n",
       "      <td>Good</td>\n",
       "      <td>57.1</td>\n",
       "      <td>60.0</td>\n",
       "      <td>8.31</td>\n",
       "      <td>8.25</td>\n",
       "      <td>4.73</td>\n",
       "      <td>12615</td>\n",
       "      <td>2.02</td>\n",
       "      <td>339916a23bf22b052b54cb2a9b36ee8418c1c68b46acad...</td>\n",
       "      <td>c939327ca16dcf97ca32521d8b834bf1de16573d21deda...</td>\n",
       "      <td>f67ab10ad4e4c53121b6a5fe4da9c10ddee905b978d378...</td>\n",
       "      <td>03c358cbd92e83278fd523f58dc6a9b4b198d00728af65...</td>\n",
       "      <td>1e73b1647343b286269d517e6f07e6e07ccef10cd7b785...</td>\n",
       "    </tr>\n",
       "    <tr>\n",
       "      <th>40452</th>\n",
       "      <td>Tel Aviv</td>\n",
       "      <td>SI1</td>\n",
       "      <td>H</td>\n",
       "      <td>Ideal</td>\n",
       "      <td>62.7</td>\n",
       "      <td>56.0</td>\n",
       "      <td>6.37</td>\n",
       "      <td>6.42</td>\n",
       "      <td>4.01</td>\n",
       "      <td>5457</td>\n",
       "      <td>1.01</td>\n",
       "      <td>46957922b99954654c1deb8d854c3f069bf118b2ce9415...</td>\n",
       "      <td>4e3cfaa334cbafb57a399a98fad8d3812ece460018f457...</td>\n",
       "      <td>44bd7ae60f478fae1061e11a7739f4b94d1daf917982d3...</td>\n",
       "      <td>bd4f4a250da88f87729febc739ae97f439a14f9d38f0e3...</td>\n",
       "      <td>68371d5bdaab31b5cbc25fbf94b8f9c1238294fc50e715...</td>\n",
       "    </tr>\n",
       "    <tr>\n",
       "      <th>40453</th>\n",
       "      <td>Paris</td>\n",
       "      <td>VS1</td>\n",
       "      <td>J</td>\n",
       "      <td>Ideal</td>\n",
       "      <td>61.9</td>\n",
       "      <td>54.3</td>\n",
       "      <td>4.45</td>\n",
       "      <td>4.47</td>\n",
       "      <td>2.76</td>\n",
       "      <td>456</td>\n",
       "      <td>0.33</td>\n",
       "      <td>9d733392d362d5c6f1d9b9659b601c7d4b5a1c1c8df579...</td>\n",
       "      <td>4e3cfaa334cbafb57a399a98fad8d3812ece460018f457...</td>\n",
       "      <td>6da43b944e494e885e69af021f93c6d9331c78aa228084...</td>\n",
       "      <td>ef736c1f91cd1900c3d9cde925b1bf4f013adc0211a9ee...</td>\n",
       "      <td>5dd272b4f316b776a7b8e3d0894b37e1e42be3d5d3b204...</td>\n",
       "    </tr>\n",
       "    <tr>\n",
       "      <th>40454</th>\n",
       "      <td>Antwerp</td>\n",
       "      <td>SI1</td>\n",
       "      <td>I</td>\n",
       "      <td>Ideal</td>\n",
       "      <td>62.0</td>\n",
       "      <td>58.0</td>\n",
       "      <td>6.83</td>\n",
       "      <td>6.88</td>\n",
       "      <td>4.25</td>\n",
       "      <td>6232</td>\n",
       "      <td>1.24</td>\n",
       "      <td>a02744a70faa594d240b067f21fcc23a8d17cd1098a9fb...</td>\n",
       "      <td>4e3cfaa334cbafb57a399a98fad8d3812ece460018f457...</td>\n",
       "      <td>a83dd0ccbffe39d071cc317ddf6e97f5c6b1c87af91919...</td>\n",
       "      <td>bd4f4a250da88f87729febc739ae97f439a14f9d38f0e3...</td>\n",
       "      <td>ca3aa21a5b70c3e88cc6336682c8c7da928a0c66a5ead4...</td>\n",
       "    </tr>\n",
       "  </tbody>\n",
       "</table>\n",
       "<p>40455 rows × 16 columns</p>\n",
       "</div>"
      ],
      "text/plain": [
       "                city clarity color        cut  depth  table     x     y     z  \\\n",
       "0           Kimberly     VS2     J    Premium   62.4   58.0  6.83  6.79  4.25   \n",
       "1            Antwerp     VS2     H  Very Good   63.0   57.0  4.35  4.38  2.75   \n",
       "2             London     VS1     G       Fair   65.5   55.0  5.62  5.53  3.65   \n",
       "3      New York City     SI1     D       Good   63.8   56.0  4.68  4.72  3.00   \n",
       "4              Dubai     SI1     G      Ideal   60.5   59.0  6.55  6.51  3.95   \n",
       "...              ...     ...   ...        ...    ...    ...   ...   ...   ...   \n",
       "40450  New York City     VS1     G      Ideal   62.7   57.0  7.10  7.04  4.43   \n",
       "40451         Zurich     SI2     F       Good   57.1   60.0  8.31  8.25  4.73   \n",
       "40452       Tel Aviv     SI1     H      Ideal   62.7   56.0  6.37  6.42  4.01   \n",
       "40453          Paris     VS1     J      Ideal   61.9   54.3  4.45  4.47  2.76   \n",
       "40454        Antwerp     SI1     I      Ideal   62.0   58.0  6.83  6.88  4.25   \n",
       "\n",
       "       price  carat                                           index_id  \\\n",
       "0       4268   1.21  5feceb66ffc86f38d952786c6d696c79c2dbc239dd4e91...   \n",
       "1        505   0.32  6b86b273ff34fce19d6b804eff5a3f5747ada4eaa22f1d...   \n",
       "2       2686   0.71  d4735e3a265e16eee03f59718b9b5d03019c07d8b6c51f...   \n",
       "3        738   0.41  4e07408562bedb8b60ce05c1decfe3ad16b72230967de0...   \n",
       "4       4882   1.02  4b227777d4dd1fc61c6f884f48641d02b4d121d3fd328c...   \n",
       "...      ...    ...                                                ...   \n",
       "40450  10070   1.34  f0bc79169405ebeb24e308055156b946ffd819db9b4f75...   \n",
       "40451  12615   2.02  339916a23bf22b052b54cb2a9b36ee8418c1c68b46acad...   \n",
       "40452   5457   1.01  46957922b99954654c1deb8d854c3f069bf118b2ce9415...   \n",
       "40453    456   0.33  9d733392d362d5c6f1d9b9659b601c7d4b5a1c1c8df579...   \n",
       "40454   6232   1.24  a02744a70faa594d240b067f21fcc23a8d17cd1098a9fb...   \n",
       "\n",
       "                                                  cut_id  \\\n",
       "0      de88c121a82a06352bf1aaceba20578356408a334ba046...   \n",
       "1      388655e25e91872329272fc10128ef5354b3b19a05d7e8...   \n",
       "2      f7b19afcde965ea4942b878d266f89f8ba9a5a833e60f7...   \n",
       "3      c939327ca16dcf97ca32521d8b834bf1de16573d21deda...   \n",
       "4      4e3cfaa334cbafb57a399a98fad8d3812ece460018f457...   \n",
       "...                                                  ...   \n",
       "40450  4e3cfaa334cbafb57a399a98fad8d3812ece460018f457...   \n",
       "40451  c939327ca16dcf97ca32521d8b834bf1de16573d21deda...   \n",
       "40452  4e3cfaa334cbafb57a399a98fad8d3812ece460018f457...   \n",
       "40453  4e3cfaa334cbafb57a399a98fad8d3812ece460018f457...   \n",
       "40454  4e3cfaa334cbafb57a399a98fad8d3812ece460018f457...   \n",
       "\n",
       "                                                color_id  \\\n",
       "0      6da43b944e494e885e69af021f93c6d9331c78aa228084...   \n",
       "1      44bd7ae60f478fae1061e11a7739f4b94d1daf917982d3...   \n",
       "2      333e0a1e27815d0ceee55c473fe3dc93d56c63e3bee2b3...   \n",
       "3      3f39d5c348e5b79d06e842c114e6cc571583bbf44e4b0e...   \n",
       "4      333e0a1e27815d0ceee55c473fe3dc93d56c63e3bee2b3...   \n",
       "...                                                  ...   \n",
       "40450  333e0a1e27815d0ceee55c473fe3dc93d56c63e3bee2b3...   \n",
       "40451  f67ab10ad4e4c53121b6a5fe4da9c10ddee905b978d378...   \n",
       "40452  44bd7ae60f478fae1061e11a7739f4b94d1daf917982d3...   \n",
       "40453  6da43b944e494e885e69af021f93c6d9331c78aa228084...   \n",
       "40454  a83dd0ccbffe39d071cc317ddf6e97f5c6b1c87af91919...   \n",
       "\n",
       "                                              clarity_id  \\\n",
       "0      f0b2a1d0db08cc64f85d74f1d15c2191e0e49039f4d8f2...   \n",
       "1      f0b2a1d0db08cc64f85d74f1d15c2191e0e49039f4d8f2...   \n",
       "2      ef736c1f91cd1900c3d9cde925b1bf4f013adc0211a9ee...   \n",
       "3      bd4f4a250da88f87729febc739ae97f439a14f9d38f0e3...   \n",
       "4      bd4f4a250da88f87729febc739ae97f439a14f9d38f0e3...   \n",
       "...                                                  ...   \n",
       "40450  ef736c1f91cd1900c3d9cde925b1bf4f013adc0211a9ee...   \n",
       "40451  03c358cbd92e83278fd523f58dc6a9b4b198d00728af65...   \n",
       "40452  bd4f4a250da88f87729febc739ae97f439a14f9d38f0e3...   \n",
       "40453  ef736c1f91cd1900c3d9cde925b1bf4f013adc0211a9ee...   \n",
       "40454  bd4f4a250da88f87729febc739ae97f439a14f9d38f0e3...   \n",
       "\n",
       "                                                 city_id  \n",
       "0      89c7286890f7347ab235234e74d406596a127ae3679042...  \n",
       "1      ca3aa21a5b70c3e88cc6336682c8c7da928a0c66a5ead4...  \n",
       "2      ecc0e7dc084f141b29479058967d0bc07dee25d9690a98...  \n",
       "3      5a59ef2e40c5f89adb8c0c6ad0a8019b0e252fff530cf2...  \n",
       "4      6c425048aa7badd9d84615bd8620ca1864efd81cfdb69d...  \n",
       "...                                                  ...  \n",
       "40450  5a59ef2e40c5f89adb8c0c6ad0a8019b0e252fff530cf2...  \n",
       "40451  1e73b1647343b286269d517e6f07e6e07ccef10cd7b785...  \n",
       "40452  68371d5bdaab31b5cbc25fbf94b8f9c1238294fc50e715...  \n",
       "40453  5dd272b4f316b776a7b8e3d0894b37e1e42be3d5d3b204...  \n",
       "40454  ca3aa21a5b70c3e88cc6336682c8c7da928a0c66a5ead4...  \n",
       "\n",
       "[40455 rows x 16 columns]"
      ]
     },
     "execution_count": 20,
     "metadata": {},
     "output_type": "execute_result"
    }
   ],
   "source": [
    "df_diamonds"
   ]
  },
  {
   "cell_type": "markdown",
   "id": "5eca3849",
   "metadata": {},
   "source": [
    "# 3º EDA"
   ]
  },
  {
   "cell_type": "markdown",
   "id": "5cdd0c69",
   "metadata": {},
   "source": [
    "## Estimates of Location"
   ]
  },
  {
   "cell_type": "markdown",
   "id": "546e775f",
   "metadata": {},
   "source": [
    "### Media:"
   ]
  },
  {
   "cell_type": "code",
   "execution_count": 20,
   "id": "a5fbe793",
   "metadata": {},
   "outputs": [
    {
     "name": "stdout",
     "output_type": "stream",
     "text": [
      "depth mean: 61.753\n",
      "table mean: 57.446\n",
      "x mean: 5.729\n",
      "y mean: 5.733\n",
      "z mean: 3.537\n",
      "price mean: 3928.444\n",
      "carat mean: 0.798\n"
     ]
    }
   ],
   "source": [
    "for column in df_diamonds.columns[4:11]:\n",
    "    mean_column = df_diamonds[column].mean()\n",
    "    print(f'{column} mean:', round(mean_column, 3))"
   ]
  },
  {
   "cell_type": "markdown",
   "id": "d6603d32",
   "metadata": {},
   "source": [
    "### Weighted mean:"
   ]
  },
  {
   "cell_type": "code",
   "execution_count": 21,
   "id": "8c63c6b4",
   "metadata": {},
   "outputs": [],
   "source": [
    "#wmean_depth = np.average(df_diamonds['depth'], weights=df_diamonds['depth'])"
   ]
  },
  {
   "cell_type": "markdown",
   "id": "88909bd7",
   "metadata": {},
   "source": [
    "### Trimmed mean"
   ]
  },
  {
   "cell_type": "code",
   "execution_count": 22,
   "id": "abe94ac8",
   "metadata": {},
   "outputs": [
    {
     "name": "stdout",
     "output_type": "stream",
     "text": [
      "depth trimmed_mean: 61.786\n",
      "table trimmed_mean: 57.307\n",
      "x trimmed_mean: 5.657\n",
      "y trimmed_mean: 5.66\n",
      "z trimmed_mean: 3.493\n",
      "price trimmed_mean: 3153.223\n",
      "carat trimmed_mean: 0.734\n"
     ]
    }
   ],
   "source": [
    "for column in df_diamonds.columns[4:11]:\n",
    "    tmean_column = trim_mean(df_diamonds[column], 0.1)\n",
    "    print(f'{column} trimmed_mean:', round(tmean_column, 3))\n",
    "\n",
    "#la media depth parece ser robusta al estar muy próxima a su media normal\n",
    "#la media table parece ser robusta al estar muy próxima\n",
    "#con Price aquí sí que parece haber una gran diferencia respecto a su media\n",
    "#Diferencia a tener en cuenta en Carat respecto a su media"
   ]
  },
  {
   "cell_type": "markdown",
   "id": "4cb2d329",
   "metadata": {},
   "source": [
    "### Median:"
   ]
  },
  {
   "cell_type": "code",
   "execution_count": 23,
   "id": "e45149d3",
   "metadata": {},
   "outputs": [
    {
     "name": "stdout",
     "output_type": "stream",
     "text": [
      "depth median vs mean vs tri_mean: 61.8 // 61.75 // 61.79\n",
      "table median vs mean vs tri_mean: 57.0 // 57.45 // 57.31\n",
      "x median vs mean vs tri_mean: 5.69 // 5.73 // 5.66\n",
      "y median vs mean vs tri_mean: 5.71 // 5.73 // 5.66\n",
      "z median vs mean vs tri_mean: 3.52 // 3.54 // 3.49\n",
      "price median vs mean vs tri_mean: 2397.0 // 3928.44 // 3153.22\n",
      "carat median vs mean vs tri_mean: 0.7 // 0.8 // 0.73\n"
     ]
    }
   ],
   "source": [
    "for column in df_diamonds.columns[4:11]:\n",
    "    median_column = df_diamonds[column].median()\n",
    "    mean_column = df_diamonds[column].mean()\n",
    "    tmean_column = trim_mean(df_diamonds[column], 0.1)\n",
    "    print(f'{column} median vs mean vs tri_mean:', round(median_column, 2), '//', round(mean_column, 2),\n",
    "          '//', round(tmean_column, 2))\n",
    "    \n",
    "#Depth: media y mediana se encuentran muy próximas. Son buena medida central\n",
    "#Table: media y mediana se encuentran muy próximas. Son buena medida central\n",
    "#Price: media y mediana están lejos. Incluso trimmed media de median\n",
    "#Carat: media y mediana están lejos\n",
    "\n",
    "# Conclusiones:\n",
    "# - los gustos de la gente son muy similares o los diseños de los diamantes no dan a lugar a mucha imaginación\n",
    "# - buscando la forma simétrica de un cuadrado por ser X e Y muy parecidos. Figura de cuadrado."
   ]
  },
  {
   "cell_type": "markdown",
   "id": "f6750350",
   "metadata": {},
   "source": [
    "## Estimates of Variability"
   ]
  },
  {
   "cell_type": "markdown",
   "id": "023f2f02",
   "metadata": {},
   "source": [
    "### Deviations"
   ]
  },
  {
   "cell_type": "code",
   "execution_count": 24,
   "id": "8d2630b9",
   "metadata": {},
   "outputs": [
    {
     "name": "stdout",
     "output_type": "stream",
     "text": [
      "depth deviation: 3.46190631717036e-09\n",
      "table deviation: -2.384012987022288e-10\n",
      "x deviation: -9.476366358285304e-10\n",
      "y deviation: 2.686846301003243e-10\n",
      "z deviation: -1.33347555220098e-10\n",
      "price deviation: -7.043126970529556e-09\n",
      "carat deviation: -1.5804957342879788e-10\n"
     ]
    }
   ],
   "source": [
    "for column in df_diamonds.columns[4:11]:\n",
    "    df_diamonds[f'dev_{column}'] = df_diamonds[column].mean() - df_diamonds[column]\n",
    "    print(f'{column} deviation:', df_diamonds[f'dev_{column}'].sum())\n",
    "    \n",
    "# se comprueba que todas ellas tienden a cero, neteando todas las diferencias de cada una respecto a la media."
   ]
  },
  {
   "cell_type": "markdown",
   "id": "89f53e00",
   "metadata": {},
   "source": [
    "### Mean absolute deviation"
   ]
  },
  {
   "cell_type": "code",
   "execution_count": 25,
   "id": "704bc937",
   "metadata": {},
   "outputs": [
    {
     "name": "stdout",
     "output_type": "stream",
     "text": [
      "depth mean absolute deviation: 1.0272593622772639\n",
      "table mean absolute deviation: 1.7673116453841442\n",
      "x mean absolute deviation: 0.9565134918322857\n",
      "y mean absolute deviation: 0.9513196540629539\n",
      "z mean absolute deviation: 0.5930883488050529\n",
      "price mean absolute deviation: 3034.0658933710733\n",
      "carat mean absolute deviation: 0.3859125401102314\n"
     ]
    }
   ],
   "source": [
    "for column in df_diamonds.columns[4:11]:\n",
    "    df_diamonds[f'mean_dev_{column}'] = abs(df_diamonds[column].mean() - df_diamonds[column])\n",
    "    print(f'{column} mean absolute deviation:', \n",
    "          df_diamonds[f'mean_dev_{column}'].sum() / len(df_diamonds[f'mean_dev_{column}']))"
   ]
  },
  {
   "cell_type": "markdown",
   "id": "38db4d36",
   "metadata": {},
   "source": [
    "### Variance"
   ]
  },
  {
   "cell_type": "code",
   "execution_count": 26,
   "id": "64b9cfd4",
   "metadata": {},
   "outputs": [
    {
     "name": "stdout",
     "output_type": "stream",
     "text": [
      "depth Variance: 2.05\n",
      "table Variance: 4.989\n",
      "x Variance: 1.264\n",
      "y Variance: 1.315\n",
      "z Variance: 0.486\n",
      "price Variance: 15939386.688\n",
      "carat Variance: 0.226\n"
     ]
    }
   ],
   "source": [
    "for column in df_diamonds.columns[4:11]:\n",
    "    df_diamonds[f'var_{column}'] = (df_diamonds[column].mean() - df_diamonds[column])**2\n",
    "    variance = df_diamonds[f'var_{column}'].sum() / (len(df_diamonds[f'var_{column}']) - 1)\n",
    "    print(f'{column} Variance:', round(variance, 3))\n",
    "\n",
    "# ¿de qué sirve tener como concepto la varianza? Bien, \n",
    "# aunque la interpretación del valor que arroja no nos da demasiada información, \n",
    "# su cálculo es necesario para obtener el valor de otros parámetros (covarianza, matrices econométricas).\n",
    "\n",
    "# De aquí no sacamos ninguna posible conclusión clara."
   ]
  },
  {
   "cell_type": "markdown",
   "id": "14f0f061",
   "metadata": {},
   "source": [
    "### Standard deviation"
   ]
  },
  {
   "cell_type": "code",
   "execution_count": 27,
   "id": "dffe1033",
   "metadata": {},
   "outputs": [
    {
     "name": "stdout",
     "output_type": "stream",
     "text": [
      "depth Standard deviation: 1.432 que supone un 2.32 % respecto a su media\n",
      "table Standard deviation: 2.234 que supone un 3.89 % respecto a su media\n",
      "x Standard deviation: 1.124 que supone un 19.63 % respecto a su media\n",
      "y Standard deviation: 1.147 que supone un 20.0 % respecto a su media\n",
      "z Standard deviation: 0.697 que supone un 19.71 % respecto a su media\n",
      "price Standard deviation: 3992.416 que supone un 101.63 % respecto a su media\n",
      "carat Standard deviation: 0.476 que supone un 59.61 % respecto a su media\n"
     ]
    }
   ],
   "source": [
    "for column in df_diamonds.columns[4:11]:\n",
    "    std_dev = df_diamonds[column].std()\n",
    "    std_dev_p = (std_dev / df_diamonds[column].mean())* 100\n",
    "    print(f'{column} Standard deviation:', round(std_dev, 3), 'que supone un', round(std_dev_p, 2), '% respecto a su media')\n",
    "    \n",
    "# cuanto mayor sea la dispersión mayor es la desviación estándar, si no hubiera ninguna variación en los datos, \n",
    "# es decir, si fueran todos iguales, la desviación estándar sería cero. \n",
    "# La desviación estándar cuantifica la dispersión alrededor de la media aritmética. \n",
    "# Informa de la media de distancias que tienen los datos respecto de su media aritmética.\n",
    "# Si la muestra representara una distribución normal podríamos decir que: \n",
    "# el 68% se encuentran en +- una vez la standard deviation respecto a la media\n",
    "# el 95% se encuentra en +- 1,96 veces la standard deviation respecto a la media\n",
    "\n",
    "# Puede resultar interesante calcular de cada uno si en muy representativo respecto a la media\n",
    "\n",
    "#Conclusiones:\n",
    "# - Depth y Table nos deberían de mostrar resultados muy poco dispersos como ya vimos con su media, y mediana\n",
    "# - X, Y, Z muestran unas desviaciones no muy altas y lo curioso es que entre ellas son muy similares lo\n",
    "# que se podría interpretar como proporcionalidad en el diseño de la forma de los diamantes\n",
    "# - Price y Carat sus desviaciones suponen mucha diferencia, lo que se podría interpretar como que \n",
    "# por muy pequeña que sea la variación en sus medidas, varía mucho su precio y algo menos los quilates."
   ]
  },
  {
   "cell_type": "markdown",
   "id": "61687223",
   "metadata": {},
   "source": [
    "### Order statistics (spread of sorted data)"
   ]
  },
  {
   "cell_type": "code",
   "execution_count": 28,
   "id": "de02329d",
   "metadata": {},
   "outputs": [],
   "source": [
    "# No me fío. Analizar la finalidad de esto.\n",
    "\n",
    "#feature = 'depth'\n",
    "\n",
    "#order_data = df_diamonds[['State', feature]].sort_values(by=[feature]).reset_index(drop=True)\n",
    "\n",
    "#order_data"
   ]
  },
  {
   "cell_type": "markdown",
   "id": "5fdde9fd",
   "metadata": {},
   "source": [
    "### Range"
   ]
  },
  {
   "cell_type": "code",
   "execution_count": 29,
   "id": "8ca584ee",
   "metadata": {},
   "outputs": [
    {
     "name": "stdout",
     "output_type": "stream",
     "text": [
      "depth range: 36.0 , siendo su mínimo: 43.0 y su máximo: 79.0\n",
      "table range: 52.0 , siendo su mínimo: 43.0 y su máximo: 95.0\n",
      "x range: 10.23 , siendo su mínimo: 0.0 y su máximo: 10.23\n",
      "y range: 58.9 , siendo su mínimo: 0.0 y su máximo: 58.9\n",
      "z range: 8.06 , siendo su mínimo: 0.0 y su máximo: 8.06\n",
      "price range: 18497 , siendo su mínimo: 326 y su máximo: 18823\n",
      "carat range: 4.3 , siendo su mínimo: 0.2 y su máximo: 4.5\n"
     ]
    }
   ],
   "source": [
    "for column in df_diamonds.columns[4:11]:\n",
    "    diamonds_range = df_diamonds[column].max() - df_diamonds[column].min()\n",
    "    print(f'{column} range:', diamonds_range, ', siendo su mínimo:', df_diamonds[column].min(), 'y su máximo:', \n",
    "          df_diamonds[column].max())\n",
    "\n",
    "# Conclusiones:\n",
    "# - Extraño que si X e Y estaban tan parejos ahora muestren unos rangos tan dispares. En algunos diseños no cumple\n",
    "# la proporcionalidad y podría derivarse de peticiones muy específicas.\n",
    "# - Por lo tanto analizamos cuando x, y, z son máximo y mínimo. Lo mismo con el precio."
   ]
  },
  {
   "cell_type": "code",
   "execution_count": 30,
   "id": "59f15928",
   "metadata": {},
   "outputs": [
    {
     "data": {
      "text/html": [
       "<div>\n",
       "<style scoped>\n",
       "    .dataframe tbody tr th:only-of-type {\n",
       "        vertical-align: middle;\n",
       "    }\n",
       "\n",
       "    .dataframe tbody tr th {\n",
       "        vertical-align: top;\n",
       "    }\n",
       "\n",
       "    .dataframe thead th {\n",
       "        text-align: right;\n",
       "    }\n",
       "</style>\n",
       "<table border=\"1\" class=\"dataframe\">\n",
       "  <thead>\n",
       "    <tr style=\"text-align: right;\">\n",
       "      <th></th>\n",
       "      <th>city</th>\n",
       "      <th>clarity</th>\n",
       "      <th>color</th>\n",
       "      <th>cut</th>\n",
       "      <th>depth</th>\n",
       "      <th>table</th>\n",
       "      <th>x</th>\n",
       "      <th>y</th>\n",
       "      <th>z</th>\n",
       "      <th>price</th>\n",
       "      <th>...</th>\n",
       "      <th>mean_dev_z</th>\n",
       "      <th>mean_dev_price</th>\n",
       "      <th>mean_dev_carat</th>\n",
       "      <th>var_depth</th>\n",
       "      <th>var_table</th>\n",
       "      <th>var_x</th>\n",
       "      <th>var_y</th>\n",
       "      <th>var_z</th>\n",
       "      <th>var_price</th>\n",
       "      <th>var_carat</th>\n",
       "    </tr>\n",
       "  </thead>\n",
       "  <tbody>\n",
       "    <tr>\n",
       "      <th>6465</th>\n",
       "      <td>Paris</td>\n",
       "      <td>SI2</td>\n",
       "      <td>F</td>\n",
       "      <td>Good</td>\n",
       "      <td>64.1</td>\n",
       "      <td>60.0</td>\n",
       "      <td>0.0</td>\n",
       "      <td>0.00</td>\n",
       "      <td>0.0</td>\n",
       "      <td>2130</td>\n",
       "      <td>...</td>\n",
       "      <td>3.537154</td>\n",
       "      <td>1798.444469</td>\n",
       "      <td>0.087706</td>\n",
       "      <td>5.509153</td>\n",
       "      <td>6.522238</td>\n",
       "      <td>32.825929</td>\n",
       "      <td>32.865210</td>\n",
       "      <td>12.511456</td>\n",
       "      <td>3.234403e+06</td>\n",
       "      <td>0.007692</td>\n",
       "    </tr>\n",
       "    <tr>\n",
       "      <th>14815</th>\n",
       "      <td>Amsterdam</td>\n",
       "      <td>SI2</td>\n",
       "      <td>F</td>\n",
       "      <td>Ideal</td>\n",
       "      <td>61.6</td>\n",
       "      <td>56.0</td>\n",
       "      <td>0.0</td>\n",
       "      <td>6.62</td>\n",
       "      <td>0.0</td>\n",
       "      <td>4954</td>\n",
       "      <td>...</td>\n",
       "      <td>3.537154</td>\n",
       "      <td>1025.555531</td>\n",
       "      <td>0.272294</td>\n",
       "      <td>0.023361</td>\n",
       "      <td>2.091300</td>\n",
       "      <td>32.825929</td>\n",
       "      <td>0.787091</td>\n",
       "      <td>12.511456</td>\n",
       "      <td>1.051764e+06</td>\n",
       "      <td>0.074144</td>\n",
       "    </tr>\n",
       "    <tr>\n",
       "      <th>26192</th>\n",
       "      <td>Amsterdam</td>\n",
       "      <td>SI2</td>\n",
       "      <td>H</td>\n",
       "      <td>Premium</td>\n",
       "      <td>62.8</td>\n",
       "      <td>59.0</td>\n",
       "      <td>0.0</td>\n",
       "      <td>0.00</td>\n",
       "      <td>0.0</td>\n",
       "      <td>18034</td>\n",
       "      <td>...</td>\n",
       "      <td>3.537154</td>\n",
       "      <td>14105.555531</td>\n",
       "      <td>1.452294</td>\n",
       "      <td>1.096541</td>\n",
       "      <td>2.414503</td>\n",
       "      <td>32.825929</td>\n",
       "      <td>32.865210</td>\n",
       "      <td>12.511456</td>\n",
       "      <td>1.989667e+08</td>\n",
       "      <td>2.109159</td>\n",
       "    </tr>\n",
       "    <tr>\n",
       "      <th>28029</th>\n",
       "      <td>Zurich</td>\n",
       "      <td>SI2</td>\n",
       "      <td>F</td>\n",
       "      <td>Good</td>\n",
       "      <td>64.1</td>\n",
       "      <td>60.0</td>\n",
       "      <td>0.0</td>\n",
       "      <td>0.00</td>\n",
       "      <td>0.0</td>\n",
       "      <td>2130</td>\n",
       "      <td>...</td>\n",
       "      <td>3.537154</td>\n",
       "      <td>1798.444469</td>\n",
       "      <td>0.087706</td>\n",
       "      <td>5.509153</td>\n",
       "      <td>6.522238</td>\n",
       "      <td>32.825929</td>\n",
       "      <td>32.865210</td>\n",
       "      <td>12.511456</td>\n",
       "      <td>3.234403e+06</td>\n",
       "      <td>0.007692</td>\n",
       "    </tr>\n",
       "    <tr>\n",
       "      <th>34423</th>\n",
       "      <td>Amsterdam</td>\n",
       "      <td>VS1</td>\n",
       "      <td>G</td>\n",
       "      <td>Fair</td>\n",
       "      <td>57.5</td>\n",
       "      <td>67.0</td>\n",
       "      <td>0.0</td>\n",
       "      <td>0.00</td>\n",
       "      <td>0.0</td>\n",
       "      <td>6381</td>\n",
       "      <td>...</td>\n",
       "      <td>3.537154</td>\n",
       "      <td>2452.555531</td>\n",
       "      <td>0.342294</td>\n",
       "      <td>18.086660</td>\n",
       "      <td>91.276380</td>\n",
       "      <td>32.825929</td>\n",
       "      <td>32.865210</td>\n",
       "      <td>12.511456</td>\n",
       "      <td>6.015029e+06</td>\n",
       "      <td>0.117165</td>\n",
       "    </tr>\n",
       "  </tbody>\n",
       "</table>\n",
       "<p>5 rows × 37 columns</p>\n",
       "</div>"
      ],
      "text/plain": [
       "            city clarity color      cut  depth  table    x     y    z  price  \\\n",
       "6465       Paris     SI2     F     Good   64.1   60.0  0.0  0.00  0.0   2130   \n",
       "14815  Amsterdam     SI2     F    Ideal   61.6   56.0  0.0  6.62  0.0   4954   \n",
       "26192  Amsterdam     SI2     H  Premium   62.8   59.0  0.0  0.00  0.0  18034   \n",
       "28029     Zurich     SI2     F     Good   64.1   60.0  0.0  0.00  0.0   2130   \n",
       "34423  Amsterdam     VS1     G     Fair   57.5   67.0  0.0  0.00  0.0   6381   \n",
       "\n",
       "       ...  mean_dev_z mean_dev_price mean_dev_carat  var_depth  var_table  \\\n",
       "6465   ...    3.537154    1798.444469       0.087706   5.509153   6.522238   \n",
       "14815  ...    3.537154    1025.555531       0.272294   0.023361   2.091300   \n",
       "26192  ...    3.537154   14105.555531       1.452294   1.096541   2.414503   \n",
       "28029  ...    3.537154    1798.444469       0.087706   5.509153   6.522238   \n",
       "34423  ...    3.537154    2452.555531       0.342294  18.086660  91.276380   \n",
       "\n",
       "           var_x      var_y      var_z     var_price  var_carat  \n",
       "6465   32.825929  32.865210  12.511456  3.234403e+06   0.007692  \n",
       "14815  32.825929   0.787091  12.511456  1.051764e+06   0.074144  \n",
       "26192  32.825929  32.865210  12.511456  1.989667e+08   2.109159  \n",
       "28029  32.825929  32.865210  12.511456  3.234403e+06   0.007692  \n",
       "34423  32.825929  32.865210  12.511456  6.015029e+06   0.117165  \n",
       "\n",
       "[5 rows x 37 columns]"
      ]
     },
     "execution_count": 30,
     "metadata": {},
     "output_type": "execute_result"
    }
   ],
   "source": [
    "# Mínimos:\n",
    "df_diamonds[df_diamonds['x']==0] #son 5 filas\n",
    "#df_diamonds[df_diamonds['y']==0] #son 4 filas\n",
    "#df_diamonds[df_diamonds['z']==0] #son 16 filas\n",
    "#df_diamonds[df_diamonds['price']==326] #medidas de x,y,z próximos a su media.\n",
    "\n",
    "# Máximos:\n",
    "#df_diamonds[df_diamonds['x']==10.23] #en máximo el precio (18.531) es muy próximo a su máximo\n",
    "#df_diamonds[df_diamonds['y']==58.9] #llama la atención el valor tan bajo de x (8.09) y pero coincide con max de z(8.06)\n",
    "#df_diamonds[df_diamonds['z']==8.06] #mismo caso que el anterior. Representa un precio alto que se podría considerar acorde.\n",
    "#df_diamonds[df_diamonds['price']==18823] #no se corresponde con medidas máximas incluso ni en depth y table."
   ]
  },
  {
   "cell_type": "markdown",
   "id": "a7986fab",
   "metadata": {},
   "source": [
    "### Percentiles (it is NOT a data point)"
   ]
  },
  {
   "cell_type": "code",
   "execution_count": 31,
   "id": "52878200",
   "metadata": {},
   "outputs": [
    {
     "name": "stdout",
     "output_type": "stream",
     "text": [
      "----------- depth -------------\n",
      "Percentile 75th: 62.5 \n",
      "Percentile 50th: 61.8 \n",
      "Percentile 25th: 61.0\n",
      "----------- table -------------\n",
      "Percentile 75th: 59.0 \n",
      "Percentile 50th: 57.0 \n",
      "Percentile 25th: 56.0\n",
      "----------- x -------------\n",
      "Percentile 75th: 6.54 \n",
      "Percentile 50th: 5.69 \n",
      "Percentile 25th: 4.71\n",
      "----------- y -------------\n",
      "Percentile 75th: 6.54 \n",
      "Percentile 50th: 5.71 \n",
      "Percentile 25th: 4.72\n",
      "----------- z -------------\n",
      "Percentile 75th: 4.035 \n",
      "Percentile 50th: 3.52 \n",
      "Percentile 25th: 2.91\n",
      "----------- price -------------\n",
      "Percentile 75th: 5331.0 \n",
      "Percentile 50th: 2397.0 \n",
      "Percentile 25th: 945.0\n",
      "----------- carat -------------\n",
      "Percentile 75th: 1.04 \n",
      "Percentile 50th: 0.7 \n",
      "Percentile 25th: 0.4\n"
     ]
    }
   ],
   "source": [
    "for column in df_diamonds.columns[4:11]:\n",
    "    per_75 = df_diamonds[column].quantile(0.75)\n",
    "    per_25 = df_diamonds[column].quantile(0.25)\n",
    "    per_50 = df_diamonds[column].quantile(0.50)\n",
    "    print(f'----------- {column} -------------')\n",
    "    print('Percentile 75th:', per_75, '\\nPercentile 50th:', per_50, '\\nPercentile 25th:', per_25)\n",
    "\n",
    "# Interpretación:\n",
    "# En el caso de Price el 75% de los valores está por debajo de 5.33. El 50%, coincide con el valor de la mediana.\n",
    "\n",
    "# Conclusiones:\n",
    "# Una vez más nos llama la atención de Price donde teniendo un valor máximo de 18.823, el 75% de los valores son inferiores\n",
    "# a 5.331. Un valor muy alejado del máximo sabiendo que no puede haber negativos en una variable de precio de venta."
   ]
  },
  {
   "cell_type": "markdown",
   "id": "aea3c7ff",
   "metadata": {},
   "source": [
    "### Interquartile range"
   ]
  },
  {
   "cell_type": "code",
   "execution_count": 32,
   "id": "7ee7947f",
   "metadata": {},
   "outputs": [
    {
     "name": "stdout",
     "output_type": "stream",
     "text": [
      "depth interquartile range: 1.5 que representa el 2.427 % sobre su mediana\n",
      "table interquartile range: 3.0 que representa el 5.263 % sobre su mediana\n",
      "x interquartile range: 1.83 que representa el 32.162 % sobre su mediana\n",
      "y interquartile range: 1.82 que representa el 31.874 % sobre su mediana\n",
      "z interquartile range: 1.125 que representa el 31.96 % sobre su mediana\n",
      "price interquartile range: 4386.0 que representa el 182.979 % sobre su mediana\n",
      "carat interquartile range: 0.64 que representa el 91.429 % sobre su mediana\n"
     ]
    }
   ],
   "source": [
    "for column in df_diamonds.columns[4:11]:\n",
    "    per_75 = df_diamonds[column].quantile(0.75)\n",
    "    per_25 = df_diamonds[column].quantile(0.25)\n",
    "    iqr = per_75 - per_25\n",
    "    iqr_perc = (iqr / df_diamonds[column].median())* 100\n",
    "    print(f'{column} interquartile range:', round(iqr, 3), 'que representa el', round(iqr_perc, 3), '% sobre su mediana')\n",
    "\n",
    "# Interpretación:\n",
    "# Muestra la dispersión de valor en la que se encuentran el 50% de los valores más centrales.\n",
    "\n",
    "# Conclusiones:\n",
    "# Vemos de nuevo la alta dispersión de los valores en el precio a diferencia de los valores en Depth y/o Table.\n",
    "# Se podría interpretar que el precio es muy sensible a las medidas del diamante\n",
    "# X, Y, Z parece que siguen manteniendo esa proporcionalidad."
   ]
  },
  {
   "cell_type": "markdown",
   "id": "41b48f38",
   "metadata": {},
   "source": [
    "## Exploring the Data Distribution"
   ]
  },
  {
   "cell_type": "markdown",
   "id": "acc7e5e6",
   "metadata": {},
   "source": [
    "### Boxplot (Matplotlib whiskers implementation = 1.5 IQR)"
   ]
  },
  {
   "cell_type": "code",
   "execution_count": 33,
   "id": "7398e7e7",
   "metadata": {},
   "outputs": [
    {
     "data": {
      "image/png": "[encoded data removed]",
      "text/plain": [
       "<Figure size 360x576 with 1 Axes>"
      ]
     },
     "metadata": {
      "needs_background": "light"
     },
     "output_type": "display_data"
    },
    {
     "data": {
      "image/png": "[encoded data removed]",
      "text/plain": [
       "<Figure size 360x576 with 1 Axes>"
      ]
     },
     "metadata": {
      "needs_background": "light"
     },
     "output_type": "display_data"
    },
    {
     "data": {
      "image/png": "[encoded data removed]",
      "text/plain": [
       "<Figure size 360x576 with 1 Axes>"
      ]
     },
     "metadata": {
      "needs_background": "light"
     },
     "output_type": "display_data"
    },
    {
     "data": {
      "image/png": "[encoded data removed]",
      "text/plain": [
       "<Figure size 360x576 with 1 Axes>"
      ]
     },
     "metadata": {
      "needs_background": "light"
     },
     "output_type": "display_data"
    },
    {
     "data": {
      "image/png": "[encoded data removed]",
      "text/plain": [
       "<Figure size 360x576 with 1 Axes>"
      ]
     },
     "metadata": {
      "needs_background": "light"
     },
     "output_type": "display_data"
    },
    {
     "data": {
      "image/png": "[encoded data removed]",
      "text/plain": [
       "<Figure size 360x576 with 1 Axes>"
      ]
     },
     "metadata": {
      "needs_background": "light"
     },
     "output_type": "display_data"
    },
    {
     "data": {
      "image/png": "[encoded data removed]",
      "text/plain": [
       "<Figure size 360x576 with 1 Axes>"
      ]
     },
     "metadata": {
      "needs_background": "light"
     },
     "output_type": "display_data"
    }
   ],
   "source": [
    "for column in df_diamonds.columns[4:11]:\n",
    "    data = df_diamonds[column]\n",
    "    ax = data.plot.box(figsize=(5, 8))\n",
    "    ax.set_ylabel(column)\n",
    "    #ax.boxplot(data, whis=[0, 100])\n",
    "    plt.tight_layout()\n",
    "    plt.grid()\n",
    "    plt.show()\n",
    "\n",
    "# Interpretación:\n",
    "# El interior de la caja marca el límite inferior del percentil 25 y el superior del 75\n",
    "# La línea interior es la mediana\n",
    "# Los bigotes pueden llegar a marcar un máximo de +-1,5 veces la desviación stándar.\n",
    "\n",
    "# Conclusiones:\n",
    "# Muchas veces el visual únicamente puede llevarnos a engaño debido a las escalas como sucede comparando los gráficos x e Y.\n",
    "# Con X e Y venimos viendo su alta relación pero visualmente diríamos que los valores de Y están más concentrados que en X."
   ]
  },
  {
   "cell_type": "markdown",
   "id": "43ab8b0c",
   "metadata": {},
   "source": [
    "###  Percentiles table (equal-count bins). Quartiles and Deciles are usually used"
   ]
  },
  {
   "cell_type": "code",
   "execution_count": 34,
   "id": "e2d20d4d",
   "metadata": {},
   "outputs": [
    {
     "data": {
      "text/html": [
       "<div>\n",
       "<style scoped>\n",
       "    .dataframe tbody tr th:only-of-type {\n",
       "        vertical-align: middle;\n",
       "    }\n",
       "\n",
       "    .dataframe tbody tr th {\n",
       "        vertical-align: top;\n",
       "    }\n",
       "\n",
       "    .dataframe thead th {\n",
       "        text-align: right;\n",
       "    }\n",
       "</style>\n",
       "<table border=\"1\" class=\"dataframe\">\n",
       "  <thead>\n",
       "    <tr style=\"text-align: right;\">\n",
       "      <th></th>\n",
       "      <th>5.0%</th>\n",
       "      <th>25.0%</th>\n",
       "      <th>50.0%</th>\n",
       "      <th>75.0%</th>\n",
       "      <th>95.0%</th>\n",
       "    </tr>\n",
       "  </thead>\n",
       "  <tbody>\n",
       "    <tr>\n",
       "      <th>depth</th>\n",
       "      <td>59.30</td>\n",
       "      <td>61.00</td>\n",
       "      <td>61.80</td>\n",
       "      <td>62.500</td>\n",
       "      <td>63.80</td>\n",
       "    </tr>\n",
       "    <tr>\n",
       "      <th>table</th>\n",
       "      <td>54.00</td>\n",
       "      <td>56.00</td>\n",
       "      <td>57.00</td>\n",
       "      <td>59.000</td>\n",
       "      <td>61.00</td>\n",
       "    </tr>\n",
       "    <tr>\n",
       "      <th>x</th>\n",
       "      <td>4.29</td>\n",
       "      <td>4.71</td>\n",
       "      <td>5.69</td>\n",
       "      <td>6.540</td>\n",
       "      <td>7.67</td>\n",
       "    </tr>\n",
       "    <tr>\n",
       "      <th>y</th>\n",
       "      <td>4.30</td>\n",
       "      <td>4.72</td>\n",
       "      <td>5.71</td>\n",
       "      <td>6.540</td>\n",
       "      <td>7.65</td>\n",
       "    </tr>\n",
       "    <tr>\n",
       "      <th>z</th>\n",
       "      <td>2.65</td>\n",
       "      <td>2.91</td>\n",
       "      <td>3.52</td>\n",
       "      <td>4.035</td>\n",
       "      <td>4.74</td>\n",
       "    </tr>\n",
       "    <tr>\n",
       "      <th>price</th>\n",
       "      <td>544.00</td>\n",
       "      <td>945.00</td>\n",
       "      <td>2397.00</td>\n",
       "      <td>5331.000</td>\n",
       "      <td>13132.00</td>\n",
       "    </tr>\n",
       "    <tr>\n",
       "      <th>carat</th>\n",
       "      <td>0.30</td>\n",
       "      <td>0.40</td>\n",
       "      <td>0.70</td>\n",
       "      <td>1.040</td>\n",
       "      <td>1.71</td>\n",
       "    </tr>\n",
       "  </tbody>\n",
       "</table>\n",
       "</div>"
      ],
      "text/plain": [
       "         5.0%   25.0%    50.0%     75.0%     95.0%\n",
       "depth   59.30   61.00    61.80    62.500     63.80\n",
       "table   54.00   56.00    57.00    59.000     61.00\n",
       "x        4.29    4.71     5.69     6.540      7.67\n",
       "y        4.30    4.72     5.71     6.540      7.65\n",
       "z        2.65    2.91     3.52     4.035      4.74\n",
       "price  544.00  945.00  2397.00  5331.000  13132.00\n",
       "carat    0.30    0.40     0.70     1.040      1.71"
      ]
     },
     "execution_count": 34,
     "metadata": {},
     "output_type": "execute_result"
    }
   ],
   "source": [
    "percentages = [0.05, 0.25, 0.5, 0.75, 0.95]\n",
    "percentiles = df_diamonds['depth'].quantile(percentages)\n",
    "df_per = pd.DataFrame(percentiles)\n",
    "df_per.index = [f'{p * 100}%' for p in percentages]\n",
    "df_per = df_per.transpose()\n",
    "\n",
    "for column in df_diamonds.columns[5:11]:\n",
    "    percentages = [0.05, 0.25, 0.5, 0.75, 0.95]\n",
    "    percentiles = df_diamonds[column].quantile(percentages)\n",
    "    df_per_column = pd.DataFrame(percentiles)\n",
    "    df_per_column.index = [f'{p * 100}%' for p in percentages]\n",
    "    df_per_column = df_per_column.transpose()\n",
    "    df_per = pd.concat([df_per, df_per_column], axis=0,)\n",
    "\n",
    "df_per\n",
    "\n",
    "# Interpretación:\n",
    "# mismo que lo que veíamos en los percentiles pero incluyendo 5% y 95%\n",
    "\n",
    "# Conclusiones:\n",
    "# la proporcionalidad de X e Y."
   ]
  },
  {
   "cell_type": "markdown",
   "id": "94030ee2",
   "metadata": {},
   "source": [
    "### Frequency table (equal-size bins)"
   ]
  },
  {
   "cell_type": "code",
   "execution_count": 35,
   "id": "7d49d482",
   "metadata": {},
   "outputs": [
    {
     "data": {
      "text/html": [
       "<div>\n",
       "<style scoped>\n",
       "    .dataframe tbody tr th:only-of-type {\n",
       "        vertical-align: middle;\n",
       "    }\n",
       "\n",
       "    .dataframe tbody tr th {\n",
       "        vertical-align: top;\n",
       "    }\n",
       "\n",
       "    .dataframe thead th {\n",
       "        text-align: right;\n",
       "    }\n",
       "</style>\n",
       "<table border=\"1\" class=\"dataframe\">\n",
       "  <thead>\n",
       "    <tr style=\"text-align: right;\">\n",
       "      <th></th>\n",
       "      <th>city</th>\n",
       "      <th>clarity</th>\n",
       "      <th>color</th>\n",
       "      <th>cut</th>\n",
       "      <th>depth</th>\n",
       "      <th>table</th>\n",
       "      <th>x</th>\n",
       "      <th>y</th>\n",
       "      <th>z</th>\n",
       "      <th>price</th>\n",
       "      <th>...</th>\n",
       "      <th>var_z</th>\n",
       "      <th>var_price</th>\n",
       "      <th>var_carat</th>\n",
       "      <th>binned_depth</th>\n",
       "      <th>binned_table</th>\n",
       "      <th>binned_x</th>\n",
       "      <th>binned_y</th>\n",
       "      <th>binned_z</th>\n",
       "      <th>binned_price</th>\n",
       "      <th>binned_carat</th>\n",
       "    </tr>\n",
       "  </thead>\n",
       "  <tbody>\n",
       "    <tr>\n",
       "      <th>0</th>\n",
       "      <td>Kimberly</td>\n",
       "      <td>VS2</td>\n",
       "      <td>J</td>\n",
       "      <td>Premium</td>\n",
       "      <td>62.4</td>\n",
       "      <td>58.0</td>\n",
       "      <td>6.83</td>\n",
       "      <td>6.79</td>\n",
       "      <td>4.25</td>\n",
       "      <td>4268</td>\n",
       "      <td>...</td>\n",
       "      <td>0.508150</td>\n",
       "      <td>1.152980e+05</td>\n",
       "      <td>0.169987</td>\n",
       "      <td>(61.0, 64.6]</td>\n",
       "      <td>(53.4, 58.6]</td>\n",
       "      <td>(6.138, 7.161]</td>\n",
       "      <td>(5.89, 11.78]</td>\n",
       "      <td>(4.03, 4.836]</td>\n",
       "      <td>(4025.4, 5875.1]</td>\n",
       "      <td>(1.06, 1.49]</td>\n",
       "    </tr>\n",
       "    <tr>\n",
       "      <th>1</th>\n",
       "      <td>Antwerp</td>\n",
       "      <td>VS2</td>\n",
       "      <td>H</td>\n",
       "      <td>Very Good</td>\n",
       "      <td>63.0</td>\n",
       "      <td>57.0</td>\n",
       "      <td>4.35</td>\n",
       "      <td>4.38</td>\n",
       "      <td>2.75</td>\n",
       "      <td>505</td>\n",
       "      <td>...</td>\n",
       "      <td>0.619611</td>\n",
       "      <td>1.171997e+07</td>\n",
       "      <td>0.228203</td>\n",
       "      <td>(61.0, 64.6]</td>\n",
       "      <td>(53.4, 58.6]</td>\n",
       "      <td>(4.092, 5.115]</td>\n",
       "      <td>(-0.0589, 5.89]</td>\n",
       "      <td>(2.418, 3.224]</td>\n",
       "      <td>(307.503, 2175.7]</td>\n",
       "      <td>(0.196, 0.63]</td>\n",
       "    </tr>\n",
       "    <tr>\n",
       "      <th>2</th>\n",
       "      <td>London</td>\n",
       "      <td>VS1</td>\n",
       "      <td>G</td>\n",
       "      <td>Fair</td>\n",
       "      <td>65.5</td>\n",
       "      <td>55.0</td>\n",
       "      <td>5.62</td>\n",
       "      <td>5.53</td>\n",
       "      <td>3.65</td>\n",
       "      <td>2686</td>\n",
       "      <td>...</td>\n",
       "      <td>0.012734</td>\n",
       "      <td>1.543668e+06</td>\n",
       "      <td>0.007692</td>\n",
       "      <td>(64.6, 68.2]</td>\n",
       "      <td>(53.4, 58.6]</td>\n",
       "      <td>(5.115, 6.138]</td>\n",
       "      <td>(-0.0589, 5.89]</td>\n",
       "      <td>(3.224, 4.03]</td>\n",
       "      <td>(2175.7, 4025.4]</td>\n",
       "      <td>(0.63, 1.06]</td>\n",
       "    </tr>\n",
       "    <tr>\n",
       "      <th>3</th>\n",
       "      <td>New York City</td>\n",
       "      <td>SI1</td>\n",
       "      <td>D</td>\n",
       "      <td>Good</td>\n",
       "      <td>63.8</td>\n",
       "      <td>56.0</td>\n",
       "      <td>4.68</td>\n",
       "      <td>4.72</td>\n",
       "      <td>3.00</td>\n",
       "      <td>738</td>\n",
       "      <td>...</td>\n",
       "      <td>0.288534</td>\n",
       "      <td>1.017894e+07</td>\n",
       "      <td>0.150316</td>\n",
       "      <td>(61.0, 64.6]</td>\n",
       "      <td>(53.4, 58.6]</td>\n",
       "      <td>(4.092, 5.115]</td>\n",
       "      <td>(-0.0589, 5.89]</td>\n",
       "      <td>(2.418, 3.224]</td>\n",
       "      <td>(307.503, 2175.7]</td>\n",
       "      <td>(0.196, 0.63]</td>\n",
       "    </tr>\n",
       "    <tr>\n",
       "      <th>4</th>\n",
       "      <td>Dubai</td>\n",
       "      <td>SI1</td>\n",
       "      <td>G</td>\n",
       "      <td>Ideal</td>\n",
       "      <td>60.5</td>\n",
       "      <td>59.0</td>\n",
       "      <td>6.55</td>\n",
       "      <td>6.51</td>\n",
       "      <td>3.95</td>\n",
       "      <td>4882</td>\n",
       "      <td>...</td>\n",
       "      <td>0.170442</td>\n",
       "      <td>9.092682e+05</td>\n",
       "      <td>0.049415</td>\n",
       "      <td>(57.4, 61.0]</td>\n",
       "      <td>(58.6, 63.8]</td>\n",
       "      <td>(6.138, 7.161]</td>\n",
       "      <td>(5.89, 11.78]</td>\n",
       "      <td>(3.224, 4.03]</td>\n",
       "      <td>(4025.4, 5875.1]</td>\n",
       "      <td>(0.63, 1.06]</td>\n",
       "    </tr>\n",
       "  </tbody>\n",
       "</table>\n",
       "<p>5 rows × 44 columns</p>\n",
       "</div>"
      ],
      "text/plain": [
       "            city clarity color        cut  depth  table     x     y     z  \\\n",
       "0       Kimberly     VS2     J    Premium   62.4   58.0  6.83  6.79  4.25   \n",
       "1        Antwerp     VS2     H  Very Good   63.0   57.0  4.35  4.38  2.75   \n",
       "2         London     VS1     G       Fair   65.5   55.0  5.62  5.53  3.65   \n",
       "3  New York City     SI1     D       Good   63.8   56.0  4.68  4.72  3.00   \n",
       "4          Dubai     SI1     G      Ideal   60.5   59.0  6.55  6.51  3.95   \n",
       "\n",
       "   price  ...     var_z     var_price var_carat  binned_depth  binned_table  \\\n",
       "0   4268  ...  0.508150  1.152980e+05  0.169987  (61.0, 64.6]  (53.4, 58.6]   \n",
       "1    505  ...  0.619611  1.171997e+07  0.228203  (61.0, 64.6]  (53.4, 58.6]   \n",
       "2   2686  ...  0.012734  1.543668e+06  0.007692  (64.6, 68.2]  (53.4, 58.6]   \n",
       "3    738  ...  0.288534  1.017894e+07  0.150316  (61.0, 64.6]  (53.4, 58.6]   \n",
       "4   4882  ...  0.170442  9.092682e+05  0.049415  (57.4, 61.0]  (58.6, 63.8]   \n",
       "\n",
       "         binned_x         binned_y        binned_z       binned_price  \\\n",
       "0  (6.138, 7.161]    (5.89, 11.78]   (4.03, 4.836]   (4025.4, 5875.1]   \n",
       "1  (4.092, 5.115]  (-0.0589, 5.89]  (2.418, 3.224]  (307.503, 2175.7]   \n",
       "2  (5.115, 6.138]  (-0.0589, 5.89]   (3.224, 4.03]   (2175.7, 4025.4]   \n",
       "3  (4.092, 5.115]  (-0.0589, 5.89]  (2.418, 3.224]  (307.503, 2175.7]   \n",
       "4  (6.138, 7.161]    (5.89, 11.78]   (3.224, 4.03]   (4025.4, 5875.1]   \n",
       "\n",
       "    binned_carat  \n",
       "0   (1.06, 1.49]  \n",
       "1  (0.196, 0.63]  \n",
       "2   (0.63, 1.06]  \n",
       "3  (0.196, 0.63]  \n",
       "4   (0.63, 1.06]  \n",
       "\n",
       "[5 rows x 44 columns]"
      ]
     },
     "execution_count": 35,
     "metadata": {},
     "output_type": "execute_result"
    }
   ],
   "source": [
    "for column in df_diamonds.columns[4:11]:\n",
    "    df_diamonds[f'binned_{column}'] = pd.cut(df_diamonds[column], 10)\n",
    "    # Los siguientes pasos muestran otra lógica de cómo hacer este proceso pero que por alguna razón no me funcionaba en el loop\n",
    "    #binnedPopulation = pd.cut(df_diamonds[column], 10)\n",
    "    #binnedPopulation.head()\n",
    "    #binnedPopulation.value_counts()\n",
    "    #binnedPopulation.name = f'binned_{column}'\n",
    "    #df_bin = pd.concat([df_diamonds, binnedPopulation], axis=1)\n",
    "    #df_bin = df_bin.sort_values(by=column)\n",
    "    \n",
    "df_diamonds.head()\n",
    "\n",
    "# Interpretación:\n",
    "# asignamos un número específico de intervalos (bins) a un feature. Dicho número divide el rango de la muestra en cajitas\n",
    "# del mismo tamaño por lo que el número de valores que caen en cada intervalo no tienen por qué ser iguales.\n",
    "# Lo que sucedía en los percentiles es que cada una de las 4 cajas contenía el mismo número de valores."
   ]
  },
  {
   "cell_type": "markdown",
   "id": "eeb2cecb",
   "metadata": {},
   "source": [
    "### Histogram (or plotting the frequency table)"
   ]
  },
  {
   "cell_type": "code",
   "execution_count": 36,
   "id": "863e0582",
   "metadata": {},
   "outputs": [
    {
     "data": {
      "image/png": "[encoded data removed]",
      "text/plain": [
       "<Figure size 864x576 with 1 Axes>"
      ]
     },
     "metadata": {
      "needs_background": "light"
     },
     "output_type": "display_data"
    },
    {
     "data": {
      "image/png": "[encoded data removed]",
      "text/plain": [
       "<Figure size 864x576 with 1 Axes>"
      ]
     },
     "metadata": {
      "needs_background": "light"
     },
     "output_type": "display_data"
    },
    {
     "data": {
      "image/png": "[encoded data removed]",
      "text/plain": [
       "<Figure size 864x576 with 1 Axes>"
      ]
     },
     "metadata": {
      "needs_background": "light"
     },
     "output_type": "display_data"
    },
    {
     "data": {
      "image/png": "[encoded data removed]",
      "text/plain": [
       "<Figure size 864x576 with 1 Axes>"
      ]
     },
     "metadata": {
      "needs_background": "light"
     },
     "output_type": "display_data"
    },
    {
     "data": {
      "image/png": "[encoded data removed]",
      "text/plain": [
       "<Figure size 864x576 with 1 Axes>"
      ]
     },
     "metadata": {
      "needs_background": "light"
     },
     "output_type": "display_data"
    },
    {
     "data": {
      "image/png": "[encoded data removed]",
      "text/plain": [
       "<Figure size 864x576 with 1 Axes>"
      ]
     },
     "metadata": {
      "needs_background": "light"
     },
     "output_type": "display_data"
    },
    {
     "data": {
      "image/png": "[encoded data removed]",
      "text/plain": [
       "<Figure size 864x576 with 1 Axes>"
      ]
     },
     "metadata": {
      "needs_background": "light"
     },
     "output_type": "display_data"
    }
   ],
   "source": [
    "for column in df_diamonds.columns[4:11]:\n",
    "    data = df_diamonds[column]\n",
    "    ax = data.plot.hist(figsize=(12, 8))\n",
    "    ax.set_xlabel(column)\n",
    "    plt.tight_layout()\n",
    "    plt.show()\n",
    "\n",
    "# Interpretación:\n",
    "# Tabla de frecuencias de los valores de una feature\n",
    "\n",
    "# Conclusiones:\n",
    "# Table, Depth, X, Y, Z mantienen visuales de concentración mientras que Price y Carat muestran cierta similitud\n",
    "# Veníamos viendo que X e Y eran muy similares pero en el gráfico al usar diferente escala nos podría dar una señal no\n",
    "# tan similar."
   ]
  },
  {
   "cell_type": "markdown",
   "id": "3db61e4d",
   "metadata": {},
   "source": [
    "### Density plot calculated from data using a kernel density estimate implementation (area under the curve == 1)"
   ]
  },
  {
   "cell_type": "code",
   "execution_count": 37,
   "id": "7555462b",
   "metadata": {},
   "outputs": [
    {
     "data": {
      "image/png": "[encoded data removed]",
      "text/plain": [
       "<Figure size 864x576 with 1 Axes>"
      ]
     },
     "metadata": {
      "needs_background": "light"
     },
     "output_type": "display_data"
    },
    {
     "data": {
      "image/png": "[encoded data removed]",
      "text/plain": [
       "<Figure size 864x576 with 1 Axes>"
      ]
     },
     "metadata": {
      "needs_background": "light"
     },
     "output_type": "display_data"
    },
    {
     "data": {
      "image/png": "[encoded data removed]",
      "text/plain": [
       "<Figure size 864x576 with 1 Axes>"
      ]
     },
     "metadata": {
      "needs_background": "light"
     },
     "output_type": "display_data"
    },
    {
     "data": {
      "image/png": "[encoded data removed]",
      "text/plain": [
       "<Figure size 864x576 with 1 Axes>"
      ]
     },
     "metadata": {
      "needs_background": "light"
     },
     "output_type": "display_data"
    },
    {
     "data": {
      "image/png": "[encoded data removed]",
      "text/plain": [
       "<Figure size 864x576 with 1 Axes>"
      ]
     },
     "metadata": {
      "needs_background": "light"
     },
     "output_type": "display_data"
    },
    {
     "data": {
      "image/png": "[encoded data removed]",
      "text/plain": [
       "<Figure size 864x576 with 1 Axes>"
      ]
     },
     "metadata": {
      "needs_background": "light"
     },
     "output_type": "display_data"
    },
    {
     "data": {
      "image/png": "[encoded data removed]",
      "text/plain": [
       "<Figure size 864x576 with 1 Axes>"
      ]
     },
     "metadata": {
      "needs_background": "light"
     },
     "output_type": "display_data"
    }
   ],
   "source": [
    "for column in df_diamonds.columns[4:11]:\n",
    "    data = df_diamonds[column]\n",
    "    ax = data.plot.hist(density=True,\n",
    "                        #xlim=[0, 12], \n",
    "                        #bins=range(1,12),\n",
    "                        figsize=(12, 8))\n",
    "    data.plot.density(ax=ax)\n",
    "    ax.set_xlabel(column)\n",
    "    plt.tight_layout()\n",
    "    plt.show()\n",
    "    \n",
    "# Conclusiones:\n",
    "# En esta ocasión, a misma escala los gráficos de X e Y sí se parecen mucho más."
   ]
  },
  {
   "cell_type": "markdown",
   "id": "daf1b70b",
   "metadata": {},
   "source": [
    "## Exploring Binary and Categorical Data"
   ]
  },
  {
   "cell_type": "markdown",
   "id": "a1d90727",
   "metadata": {},
   "source": [
    "### Category proportions"
   ]
  },
  {
   "cell_type": "code",
   "execution_count": 38,
   "id": "45a22cc2",
   "metadata": {},
   "outputs": [
    {
     "name": "stdout",
     "output_type": "stream",
     "text": [
      "                    city\n",
      "Antwerp        12.512668\n",
      "Surat          12.475590\n",
      "Kimberly       12.458287\n",
      "Zurich          6.412063\n",
      "Paris           6.374985\n",
      "Las Vegas       6.323075\n",
      "Amsterdam       6.288469\n",
      "Tel Aviv        6.261278\n",
      "Luxembourg      6.239031\n",
      "Madrid          6.189593\n",
      "New York City   6.167346\n",
      "Dubai           6.150043\n",
      "London          6.147571\n",
      "        clarity\n",
      "SI1   24.098381\n",
      "VS2   22.859968\n",
      "SI2   17.127673\n",
      "VS1   14.994438\n",
      "VVS2   9.390681\n",
      "VVS1   6.857002\n",
      "IF     3.280188\n",
      "I1     1.391670\n",
      "       color\n",
      "G  20.899765\n",
      "E  18.106538\n",
      "F  17.740700\n",
      "H  15.516005\n",
      "D  12.480534\n",
      "I   9.966630\n",
      "J   5.289828\n",
      "                 cut\n",
      "Ideal      40.093932\n",
      "Premium    25.361513\n",
      "Very Good  22.481770\n",
      "Good        9.054505\n",
      "Fair        3.008281\n"
     ]
    }
   ],
   "source": [
    "for column in df_diamonds.columns[:4]:\n",
    "    df_c = pd.DataFrame(df_diamonds[column].value_counts())\n",
    "    dfc_proportions = 100 * df_c / df_c.values.sum()\n",
    "    print(dfc_proportions)\n",
    "    \n",
    "# Interpretación:\n",
    "# Muestra el peso dentro de una feature de cada categoría    \n",
    "    \n",
    "# Conclusiones:\n",
    "# se podría decir que esta muestra no está perfectamente balanceada si la midiéramos por ejemplo por la ciudad, ya que hay \n",
    "# en 3 ciudades donde se vende el doble."
   ]
  },
  {
   "cell_type": "markdown",
   "id": "ae0d3e4f",
   "metadata": {},
   "source": [
    "### Mode "
   ]
  },
  {
   "cell_type": "code",
   "execution_count": 39,
   "id": "9f278f76",
   "metadata": {
    "scrolled": true
   },
   "outputs": [
    {
     "name": "stdout",
     "output_type": "stream",
     "text": [
      "city: Antwerp\n",
      "clarity: SI1\n",
      "color: G\n",
      "cut: Ideal\n",
      "depth: 61.9\n",
      "table: 56.0\n",
      "x: 4.37\n",
      "y: 4.37\n",
      "z: 2.69\n",
      "price: 605\n",
      "carat: 0.3\n"
     ]
    }
   ],
   "source": [
    "for column in df_diamonds.columns[:11]:\n",
    "    print(f'{column}:', df_diamonds[column].mode()[0])\n",
    "\n",
    "#Interpretación:\n",
    "# Lo que más se repite de categoría dentro de una feature\n",
    "\n",
    "# Conclusión:\n",
    "# No por ello todos estos resultados deberían de coincidir en una misma venta, tal y como vamos a intentar comprobar"
   ]
  },
  {
   "cell_type": "code",
   "execution_count": 31,
   "id": "a315a6ce",
   "metadata": {},
   "outputs": [
    {
     "data": {
      "text/html": [
       "<div>\n",
       "<style scoped>\n",
       "    .dataframe tbody tr th:only-of-type {\n",
       "        vertical-align: middle;\n",
       "    }\n",
       "\n",
       "    .dataframe tbody tr th {\n",
       "        vertical-align: top;\n",
       "    }\n",
       "\n",
       "    .dataframe thead th {\n",
       "        text-align: right;\n",
       "    }\n",
       "</style>\n",
       "<table border=\"1\" class=\"dataframe\">\n",
       "  <thead>\n",
       "    <tr style=\"text-align: right;\">\n",
       "      <th></th>\n",
       "      <th>city</th>\n",
       "      <th>clarity</th>\n",
       "      <th>color</th>\n",
       "      <th>cut</th>\n",
       "      <th>depth</th>\n",
       "      <th>table</th>\n",
       "      <th>x</th>\n",
       "      <th>y</th>\n",
       "      <th>z</th>\n",
       "      <th>price</th>\n",
       "      <th>carat</th>\n",
       "      <th>index_id</th>\n",
       "      <th>cut_id</th>\n",
       "      <th>color_id</th>\n",
       "      <th>clarity_id</th>\n",
       "      <th>city_id</th>\n",
       "    </tr>\n",
       "  </thead>\n",
       "  <tbody>\n",
       "  </tbody>\n",
       "</table>\n",
       "</div>"
      ],
      "text/plain": [
       "Empty DataFrame\n",
       "Columns: [city, clarity, color, cut, depth, table, x, y, z, price, carat, index_id, cut_id, color_id, clarity_id, city_id]\n",
       "Index: []"
      ]
     },
     "execution_count": 31,
     "metadata": {},
     "output_type": "execute_result"
    }
   ],
   "source": [
    "df_diamonds.loc[(df_diamonds['city']=='Antwerp') & (df_diamonds['clarity']=='SI1') & \n",
    "                (df_diamonds['cut']=='ideal') & \n",
    "                (df_diamonds['color']=='G')]\n",
    "\n",
    "# no hay ningún diamante que cumpla con los valores más repetidos"
   ]
  },
  {
   "cell_type": "markdown",
   "id": "642d26e7",
   "metadata": {},
   "source": [
    "### Bar charts can be understand it as not ordered (arbitrary) bins."
   ]
  },
  {
   "cell_type": "code",
   "execution_count": null,
   "id": "14bdd838",
   "metadata": {},
   "outputs": [],
   "source": []
  },
  {
   "cell_type": "markdown",
   "id": "db7c76a6",
   "metadata": {},
   "source": [
    "## Correlation (bivariate analysis)"
   ]
  },
  {
   "cell_type": "markdown",
   "id": "a2d88331",
   "metadata": {},
   "source": [
    "### Correlation matrix"
   ]
  },
  {
   "cell_type": "code",
   "execution_count": 22,
   "id": "84c1966e",
   "metadata": {},
   "outputs": [
    {
     "data": {
      "text/html": [
       "<div>\n",
       "<style scoped>\n",
       "    .dataframe tbody tr th:only-of-type {\n",
       "        vertical-align: middle;\n",
       "    }\n",
       "\n",
       "    .dataframe tbody tr th {\n",
       "        vertical-align: top;\n",
       "    }\n",
       "\n",
       "    .dataframe thead th {\n",
       "        text-align: right;\n",
       "    }\n",
       "</style>\n",
       "<table border=\"1\" class=\"dataframe\">\n",
       "  <thead>\n",
       "    <tr style=\"text-align: right;\">\n",
       "      <th></th>\n",
       "      <th>depth</th>\n",
       "      <th>table</th>\n",
       "      <th>x</th>\n",
       "      <th>y</th>\n",
       "      <th>z</th>\n",
       "      <th>price</th>\n",
       "      <th>carat</th>\n",
       "    </tr>\n",
       "  </thead>\n",
       "  <tbody>\n",
       "    <tr>\n",
       "      <th>depth</th>\n",
       "      <td>1.000000</td>\n",
       "      <td>-0.470300</td>\n",
       "      <td>-0.288638</td>\n",
       "      <td>-0.302192</td>\n",
       "      <td>-0.172134</td>\n",
       "      <td>-0.379521</td>\n",
       "      <td>-0.280951</td>\n",
       "    </tr>\n",
       "    <tr>\n",
       "      <th>table</th>\n",
       "      <td>-0.470300</td>\n",
       "      <td>1.000000</td>\n",
       "      <td>0.359658</td>\n",
       "      <td>0.355302</td>\n",
       "      <td>0.306105</td>\n",
       "      <td>0.273728</td>\n",
       "      <td>0.329669</td>\n",
       "    </tr>\n",
       "    <tr>\n",
       "      <th>x</th>\n",
       "      <td>-0.288638</td>\n",
       "      <td>0.359658</td>\n",
       "      <td>1.000000</td>\n",
       "      <td>0.999239</td>\n",
       "      <td>0.992536</td>\n",
       "      <td>0.949982</td>\n",
       "      <td>0.991897</td>\n",
       "    </tr>\n",
       "    <tr>\n",
       "      <th>y</th>\n",
       "      <td>-0.302192</td>\n",
       "      <td>0.355302</td>\n",
       "      <td>0.999239</td>\n",
       "      <td>1.000000</td>\n",
       "      <td>0.990804</td>\n",
       "      <td>0.955552</td>\n",
       "      <td>0.993504</td>\n",
       "    </tr>\n",
       "    <tr>\n",
       "      <th>z</th>\n",
       "      <td>-0.172134</td>\n",
       "      <td>0.306105</td>\n",
       "      <td>0.992536</td>\n",
       "      <td>0.990804</td>\n",
       "      <td>1.000000</td>\n",
       "      <td>0.931158</td>\n",
       "      <td>0.986748</td>\n",
       "    </tr>\n",
       "    <tr>\n",
       "      <th>price</th>\n",
       "      <td>-0.379521</td>\n",
       "      <td>0.273728</td>\n",
       "      <td>0.949982</td>\n",
       "      <td>0.955552</td>\n",
       "      <td>0.931158</td>\n",
       "      <td>1.000000</td>\n",
       "      <td>0.964667</td>\n",
       "    </tr>\n",
       "    <tr>\n",
       "      <th>carat</th>\n",
       "      <td>-0.280951</td>\n",
       "      <td>0.329669</td>\n",
       "      <td>0.991897</td>\n",
       "      <td>0.993504</td>\n",
       "      <td>0.986748</td>\n",
       "      <td>0.964667</td>\n",
       "      <td>1.000000</td>\n",
       "    </tr>\n",
       "  </tbody>\n",
       "</table>\n",
       "</div>"
      ],
      "text/plain": [
       "          depth     table         x         y         z     price     carat\n",
       "depth  1.000000 -0.470300 -0.288638 -0.302192 -0.172134 -0.379521 -0.280951\n",
       "table -0.470300  1.000000  0.359658  0.355302  0.306105  0.273728  0.329669\n",
       "x     -0.288638  0.359658  1.000000  0.999239  0.992536  0.949982  0.991897\n",
       "y     -0.302192  0.355302  0.999239  1.000000  0.990804  0.955552  0.993504\n",
       "z     -0.172134  0.306105  0.992536  0.990804  1.000000  0.931158  0.986748\n",
       "price -0.379521  0.273728  0.949982  0.955552  0.931158  1.000000  0.964667\n",
       "carat -0.280951  0.329669  0.991897  0.993504  0.986748  0.964667  1.000000"
      ]
     },
     "execution_count": 22,
     "metadata": {},
     "output_type": "execute_result"
    }
   ],
   "source": [
    "df_diamonds[:11].corr()\n",
    "\n",
    "# Interpretación:\n",
    "# La correlación se mide entre -1  y 1. Siendo 0 no correlacionadas, 1 correlación positiva y -1 corr negativa."
   ]
  },
  {
   "cell_type": "markdown",
   "id": "ede35ede",
   "metadata": {},
   "source": [
    "### Correlation matrix heatmap"
   ]
  },
  {
   "cell_type": "code",
   "execution_count": 24,
   "id": "4b6d97c5",
   "metadata": {},
   "outputs": [
    {
     "data": {
      "text/html": [
       "<div>\n",
       "<style scoped>\n",
       "    .dataframe tbody tr th:only-of-type {\n",
       "        vertical-align: middle;\n",
       "    }\n",
       "\n",
       "    .dataframe tbody tr th {\n",
       "        vertical-align: top;\n",
       "    }\n",
       "\n",
       "    .dataframe thead th {\n",
       "        text-align: right;\n",
       "    }\n",
       "</style>\n",
       "<table border=\"1\" class=\"dataframe\">\n",
       "  <thead>\n",
       "    <tr style=\"text-align: right;\">\n",
       "      <th></th>\n",
       "      <th>depth</th>\n",
       "      <th>table</th>\n",
       "      <th>x</th>\n",
       "      <th>y</th>\n",
       "      <th>z</th>\n",
       "      <th>price</th>\n",
       "      <th>carat</th>\n",
       "    </tr>\n",
       "  </thead>\n",
       "  <tbody>\n",
       "    <tr>\n",
       "      <th>0</th>\n",
       "      <td>62.4</td>\n",
       "      <td>58.0</td>\n",
       "      <td>6.83</td>\n",
       "      <td>6.79</td>\n",
       "      <td>4.25</td>\n",
       "      <td>4268</td>\n",
       "      <td>1.21</td>\n",
       "    </tr>\n",
       "    <tr>\n",
       "      <th>1</th>\n",
       "      <td>63.0</td>\n",
       "      <td>57.0</td>\n",
       "      <td>4.35</td>\n",
       "      <td>4.38</td>\n",
       "      <td>2.75</td>\n",
       "      <td>505</td>\n",
       "      <td>0.32</td>\n",
       "    </tr>\n",
       "    <tr>\n",
       "      <th>2</th>\n",
       "      <td>65.5</td>\n",
       "      <td>55.0</td>\n",
       "      <td>5.62</td>\n",
       "      <td>5.53</td>\n",
       "      <td>3.65</td>\n",
       "      <td>2686</td>\n",
       "      <td>0.71</td>\n",
       "    </tr>\n",
       "    <tr>\n",
       "      <th>3</th>\n",
       "      <td>63.8</td>\n",
       "      <td>56.0</td>\n",
       "      <td>4.68</td>\n",
       "      <td>4.72</td>\n",
       "      <td>3.00</td>\n",
       "      <td>738</td>\n",
       "      <td>0.41</td>\n",
       "    </tr>\n",
       "    <tr>\n",
       "      <th>4</th>\n",
       "      <td>60.5</td>\n",
       "      <td>59.0</td>\n",
       "      <td>6.55</td>\n",
       "      <td>6.51</td>\n",
       "      <td>3.95</td>\n",
       "      <td>4882</td>\n",
       "      <td>1.02</td>\n",
       "    </tr>\n",
       "  </tbody>\n",
       "</table>\n",
       "</div>"
      ],
      "text/plain": [
       "   depth  table     x     y     z  price  carat\n",
       "0   62.4   58.0  6.83  6.79  4.25   4268   1.21\n",
       "1   63.0   57.0  4.35  4.38  2.75    505   0.32\n",
       "2   65.5   55.0  5.62  5.53  3.65   2686   0.71\n",
       "3   63.8   56.0  4.68  4.72  3.00    738   0.41\n",
       "4   60.5   59.0  6.55  6.51  3.95   4882   1.02"
      ]
     },
     "execution_count": 24,
     "metadata": {},
     "output_type": "execute_result"
    }
   ],
   "source": [
    "df_selec = df_diamonds[['depth', 'table', 'x', 'y', 'z', 'price', 'carat']]\n",
    "df_selec.head()"
   ]
  },
  {
   "cell_type": "code",
   "execution_count": 25,
   "id": "bc9cd4d0",
   "metadata": {},
   "outputs": [
    {
     "data": {
      "image/png": "[encoded data removed]",
      "text/plain": [
       "<Figure size 720x720 with 2 Axes>"
      ]
     },
     "metadata": {
      "needs_background": "light"
     },
     "output_type": "display_data"
    }
   ],
   "source": [
    "fig, ax = plt.subplots(figsize=(10, 10))\n",
    "ax = sns.heatmap(df_selec.corr(),\n",
    "                 vmin=-1,\n",
    "                 vmax=1,\n",
    "                 cmap=sns.diverging_palette(20, 220, as_cmap=True),\n",
    "                 # https://seaborn.pydata.org/generated/seaborn.diverging_palette.html\n",
    "                 ax=ax)\n",
    "plt.tight_layout()\n",
    "\n",
    "# Conclusiones:\n",
    "# Se confirma la clara correlación entre X, Y, Z.\n",
    "# La Densidad (Carat) tiene correlación positiva también con X, Y, Z, lo que podría tener sentido a mayor tamaño de diamante\n",
    "# El precio aunque tiene correlación positiva con X, Y, Z, no es tan directa y por lo tanto habrá otros factores que influyan\n",
    "# en el mismo como por ejemplo las regiones geográficas de dónde se venden.\n",
    "# Me sorprende la correlación negativa entre depth y table, y la nula correlación que tienen ambos con X y Z, siendo resultado \n",
    "# de una operación matemática de cada una de estar variables."
   ]
  },
  {
   "cell_type": "markdown",
   "id": "71a74935",
   "metadata": {},
   "source": [
    "### Scatterplots (dominant quadrants give correlation info)"
   ]
  },
  {
   "cell_type": "code",
   "execution_count": 64,
   "id": "250383be",
   "metadata": {},
   "outputs": [
    {
     "data": {
      "image/png": "[encoded data removed]",
      "text/plain": [
       "<Figure size 720x720 with 1 Axes>"
      ]
     },
     "metadata": {
      "needs_background": "light"
     },
     "output_type": "display_data"
    }
   ],
   "source": [
    "ax = df_selec.plot.scatter(x='carat',\n",
    "                          y='y',\n",
    "                          figsize=(10, 10),\n",
    "                          marker='$\\u25EF$',\n",
    "                          alpha=1)\n",
    "ax.set_xlabel('carat')\n",
    "ax.set_ylabel('y')\n",
    "ax.axhline(0, color='grey', lw=1)\n",
    "ax.axvline(0, color='grey', lw=1)\n",
    "plt.xlim([-2, 2])\n",
    "plt.ylim([-2, 2])\n",
    "plt.tight_layout()"
   ]
  },
  {
   "cell_type": "markdown",
   "id": "f6b86718",
   "metadata": {},
   "source": [
    "## Exploring Two or More Variables (Multivariate analysis)"
   ]
  },
  {
   "cell_type": "markdown",
   "id": "70163a9e",
   "metadata": {},
   "source": [
    "### Hexagonal bining plot"
   ]
  },
  {
   "cell_type": "code",
   "execution_count": 67,
   "id": "d2acb10b",
   "metadata": {},
   "outputs": [
    {
     "data": {
      "image/png": "[encoded data removed]",
      "text/plain": [
       "<Figure size 720x576 with 2 Axes>"
      ]
     },
     "metadata": {
      "needs_background": "light"
     },
     "output_type": "display_data"
    }
   ],
   "source": [
    "ax = df_selec.plot.hexbin(x='carat',\n",
    "                         y='price',\n",
    "                         gridsize=30,\n",
    "                         sharex=False,     \n",
    "                         figsize=(10, 8))\n",
    "ax.set_xlabel('Carat')\n",
    "ax.set_ylabel('Price')\n",
    "plt.tight_layout()\n",
    "\n",
    "# Interpretación:\n",
    "# Se comparan dos variables donde en cada exágono se localiza cada bin de dicha variable\n",
    "\n",
    "# Conclusión:\n",
    "# En este ejemplo podemos ver la correlación entre precio y densidad por la línea creciente positiva que se intuye"
   ]
  },
  {
   "cell_type": "markdown",
   "id": "998f2681",
   "metadata": {},
   "source": [
    "### Contour plot"
   ]
  },
  {
   "cell_type": "code",
   "execution_count": 32,
   "id": "1a5507bb",
   "metadata": {},
   "outputs": [
    {
     "data": {
      "image/png": "[encoded data removed]",
      "text/plain": [
       "<Figure size 720x720 with 1 Axes>"
      ]
     },
     "metadata": {
      "needs_background": "light"
     },
     "output_type": "display_data"
    }
   ],
   "source": [
    "fig, ax = plt.subplots(figsize=(10, 10))\n",
    "sns.kdeplot(data=df_selec.sample(1000),\n",
    "            x='carat',\n",
    "            y='price',\n",
    "            ax=ax,\n",
    "            cmap=\"Reds\")\n",
    "df_selec.sample(1000).plot.scatter(x='carat',\n",
    "                                   y='price',\n",
    "                                   marker='$\\u25EF$',\n",
    "                                   alpha=0.1,\n",
    "                                   ax=ax)\n",
    "ax.set_xlabel('Densidad del diamante')\n",
    "ax.set_ylabel('Precio')\n",
    "plt.tight_layout()\n",
    "\n",
    "# Interpretación:\n",
    "# Lo mismo que antes pero viendo la visual desde un pista de vista de densidad topográfico\n",
    "\n",
    "# Conclusión:\n",
    "# Claramente se ve la alta corre lineal en densidades pequeñas, pero más adelante a misma densidad el precio puede variar más."
   ]
  },
  {
   "cell_type": "markdown",
   "id": "d51007c1",
   "metadata": {},
   "source": [
    "### Contingency table"
   ]
  },
  {
   "cell_type": "code",
   "execution_count": 72,
   "id": "e4fa9d60",
   "metadata": {},
   "outputs": [
    {
     "data": {
      "text/html": [
       "<div>\n",
       "<style scoped>\n",
       "    .dataframe tbody tr th:only-of-type {\n",
       "        vertical-align: middle;\n",
       "    }\n",
       "\n",
       "    .dataframe tbody tr th {\n",
       "        vertical-align: top;\n",
       "    }\n",
       "\n",
       "    .dataframe thead tr th {\n",
       "        text-align: left;\n",
       "    }\n",
       "\n",
       "    .dataframe thead tr:last-of-type th {\n",
       "        text-align: right;\n",
       "    }\n",
       "</style>\n",
       "<table border=\"1\" class=\"dataframe\">\n",
       "  <thead>\n",
       "    <tr>\n",
       "      <th></th>\n",
       "      <th colspan=\"10\" halign=\"left\">carat</th>\n",
       "      <th>...</th>\n",
       "      <th colspan=\"10\" halign=\"left\">z</th>\n",
       "    </tr>\n",
       "    <tr>\n",
       "      <th>y</th>\n",
       "      <th>0.0</th>\n",
       "      <th>3.72</th>\n",
       "      <th>3.75</th>\n",
       "      <th>3.77</th>\n",
       "      <th>3.78</th>\n",
       "      <th>3.8</th>\n",
       "      <th>3.81</th>\n",
       "      <th>3.82</th>\n",
       "      <th>3.83</th>\n",
       "      <th>3.84</th>\n",
       "      <th>...</th>\n",
       "      <th>9.42</th>\n",
       "      <th>9.46</th>\n",
       "      <th>9.59</th>\n",
       "      <th>9.63</th>\n",
       "      <th>9.85</th>\n",
       "      <th>9.94</th>\n",
       "      <th>10.1</th>\n",
       "      <th>10.16</th>\n",
       "      <th>58.9</th>\n",
       "      <th>All</th>\n",
       "    </tr>\n",
       "    <tr>\n",
       "      <th>x</th>\n",
       "      <th></th>\n",
       "      <th></th>\n",
       "      <th></th>\n",
       "      <th></th>\n",
       "      <th></th>\n",
       "      <th></th>\n",
       "      <th></th>\n",
       "      <th></th>\n",
       "      <th></th>\n",
       "      <th></th>\n",
       "      <th></th>\n",
       "      <th></th>\n",
       "      <th></th>\n",
       "      <th></th>\n",
       "      <th></th>\n",
       "      <th></th>\n",
       "      <th></th>\n",
       "      <th></th>\n",
       "      <th></th>\n",
       "      <th></th>\n",
       "      <th></th>\n",
       "    </tr>\n",
       "  </thead>\n",
       "  <tbody>\n",
       "    <tr>\n",
       "      <th>0.0</th>\n",
       "      <td>4.0</td>\n",
       "      <td>NaN</td>\n",
       "      <td>NaN</td>\n",
       "      <td>NaN</td>\n",
       "      <td>NaN</td>\n",
       "      <td>NaN</td>\n",
       "      <td>NaN</td>\n",
       "      <td>NaN</td>\n",
       "      <td>NaN</td>\n",
       "      <td>NaN</td>\n",
       "      <td>...</td>\n",
       "      <td>NaN</td>\n",
       "      <td>NaN</td>\n",
       "      <td>NaN</td>\n",
       "      <td>NaN</td>\n",
       "      <td>NaN</td>\n",
       "      <td>NaN</td>\n",
       "      <td>NaN</td>\n",
       "      <td>NaN</td>\n",
       "      <td>NaN</td>\n",
       "      <td>5</td>\n",
       "    </tr>\n",
       "    <tr>\n",
       "      <th>3.77</th>\n",
       "      <td>NaN</td>\n",
       "      <td>1.0</td>\n",
       "      <td>NaN</td>\n",
       "      <td>NaN</td>\n",
       "      <td>NaN</td>\n",
       "      <td>NaN</td>\n",
       "      <td>NaN</td>\n",
       "      <td>NaN</td>\n",
       "      <td>NaN</td>\n",
       "      <td>NaN</td>\n",
       "      <td>...</td>\n",
       "      <td>NaN</td>\n",
       "      <td>NaN</td>\n",
       "      <td>NaN</td>\n",
       "      <td>NaN</td>\n",
       "      <td>NaN</td>\n",
       "      <td>NaN</td>\n",
       "      <td>NaN</td>\n",
       "      <td>NaN</td>\n",
       "      <td>NaN</td>\n",
       "      <td>1</td>\n",
       "    </tr>\n",
       "    <tr>\n",
       "      <th>3.79</th>\n",
       "      <td>NaN</td>\n",
       "      <td>NaN</td>\n",
       "      <td>1.0</td>\n",
       "      <td>1.0</td>\n",
       "      <td>NaN</td>\n",
       "      <td>NaN</td>\n",
       "      <td>NaN</td>\n",
       "      <td>NaN</td>\n",
       "      <td>NaN</td>\n",
       "      <td>NaN</td>\n",
       "      <td>...</td>\n",
       "      <td>NaN</td>\n",
       "      <td>NaN</td>\n",
       "      <td>NaN</td>\n",
       "      <td>NaN</td>\n",
       "      <td>NaN</td>\n",
       "      <td>NaN</td>\n",
       "      <td>NaN</td>\n",
       "      <td>NaN</td>\n",
       "      <td>NaN</td>\n",
       "      <td>2</td>\n",
       "    </tr>\n",
       "    <tr>\n",
       "      <th>3.81</th>\n",
       "      <td>NaN</td>\n",
       "      <td>NaN</td>\n",
       "      <td>NaN</td>\n",
       "      <td>1.0</td>\n",
       "      <td>NaN</td>\n",
       "      <td>NaN</td>\n",
       "      <td>NaN</td>\n",
       "      <td>NaN</td>\n",
       "      <td>NaN</td>\n",
       "      <td>NaN</td>\n",
       "      <td>...</td>\n",
       "      <td>NaN</td>\n",
       "      <td>NaN</td>\n",
       "      <td>NaN</td>\n",
       "      <td>NaN</td>\n",
       "      <td>NaN</td>\n",
       "      <td>NaN</td>\n",
       "      <td>NaN</td>\n",
       "      <td>NaN</td>\n",
       "      <td>NaN</td>\n",
       "      <td>1</td>\n",
       "    </tr>\n",
       "    <tr>\n",
       "      <th>3.82</th>\n",
       "      <td>NaN</td>\n",
       "      <td>NaN</td>\n",
       "      <td>NaN</td>\n",
       "      <td>NaN</td>\n",
       "      <td>2.0</td>\n",
       "      <td>NaN</td>\n",
       "      <td>NaN</td>\n",
       "      <td>NaN</td>\n",
       "      <td>NaN</td>\n",
       "      <td>NaN</td>\n",
       "      <td>...</td>\n",
       "      <td>NaN</td>\n",
       "      <td>NaN</td>\n",
       "      <td>NaN</td>\n",
       "      <td>NaN</td>\n",
       "      <td>NaN</td>\n",
       "      <td>NaN</td>\n",
       "      <td>NaN</td>\n",
       "      <td>NaN</td>\n",
       "      <td>NaN</td>\n",
       "      <td>2</td>\n",
       "    </tr>\n",
       "    <tr>\n",
       "      <th>...</th>\n",
       "      <td>...</td>\n",
       "      <td>...</td>\n",
       "      <td>...</td>\n",
       "      <td>...</td>\n",
       "      <td>...</td>\n",
       "      <td>...</td>\n",
       "      <td>...</td>\n",
       "      <td>...</td>\n",
       "      <td>...</td>\n",
       "      <td>...</td>\n",
       "      <td>...</td>\n",
       "      <td>...</td>\n",
       "      <td>...</td>\n",
       "      <td>...</td>\n",
       "      <td>...</td>\n",
       "      <td>...</td>\n",
       "      <td>...</td>\n",
       "      <td>...</td>\n",
       "      <td>...</td>\n",
       "      <td>...</td>\n",
       "      <td>...</td>\n",
       "    </tr>\n",
       "    <tr>\n",
       "      <th>10.01</th>\n",
       "      <td>NaN</td>\n",
       "      <td>NaN</td>\n",
       "      <td>NaN</td>\n",
       "      <td>NaN</td>\n",
       "      <td>NaN</td>\n",
       "      <td>NaN</td>\n",
       "      <td>NaN</td>\n",
       "      <td>NaN</td>\n",
       "      <td>NaN</td>\n",
       "      <td>NaN</td>\n",
       "      <td>...</td>\n",
       "      <td>NaN</td>\n",
       "      <td>NaN</td>\n",
       "      <td>NaN</td>\n",
       "      <td>NaN</td>\n",
       "      <td>NaN</td>\n",
       "      <td>1.0</td>\n",
       "      <td>NaN</td>\n",
       "      <td>NaN</td>\n",
       "      <td>NaN</td>\n",
       "      <td>1</td>\n",
       "    </tr>\n",
       "    <tr>\n",
       "      <th>10.02</th>\n",
       "      <td>NaN</td>\n",
       "      <td>NaN</td>\n",
       "      <td>NaN</td>\n",
       "      <td>NaN</td>\n",
       "      <td>NaN</td>\n",
       "      <td>NaN</td>\n",
       "      <td>NaN</td>\n",
       "      <td>NaN</td>\n",
       "      <td>NaN</td>\n",
       "      <td>NaN</td>\n",
       "      <td>...</td>\n",
       "      <td>NaN</td>\n",
       "      <td>NaN</td>\n",
       "      <td>NaN</td>\n",
       "      <td>NaN</td>\n",
       "      <td>NaN</td>\n",
       "      <td>1.0</td>\n",
       "      <td>NaN</td>\n",
       "      <td>NaN</td>\n",
       "      <td>NaN</td>\n",
       "      <td>1</td>\n",
       "    </tr>\n",
       "    <tr>\n",
       "      <th>10.14</th>\n",
       "      <td>NaN</td>\n",
       "      <td>NaN</td>\n",
       "      <td>NaN</td>\n",
       "      <td>NaN</td>\n",
       "      <td>NaN</td>\n",
       "      <td>NaN</td>\n",
       "      <td>NaN</td>\n",
       "      <td>NaN</td>\n",
       "      <td>NaN</td>\n",
       "      <td>NaN</td>\n",
       "      <td>...</td>\n",
       "      <td>NaN</td>\n",
       "      <td>NaN</td>\n",
       "      <td>NaN</td>\n",
       "      <td>NaN</td>\n",
       "      <td>NaN</td>\n",
       "      <td>NaN</td>\n",
       "      <td>1.0</td>\n",
       "      <td>NaN</td>\n",
       "      <td>NaN</td>\n",
       "      <td>1</td>\n",
       "    </tr>\n",
       "    <tr>\n",
       "      <th>10.23</th>\n",
       "      <td>NaN</td>\n",
       "      <td>NaN</td>\n",
       "      <td>NaN</td>\n",
       "      <td>NaN</td>\n",
       "      <td>NaN</td>\n",
       "      <td>NaN</td>\n",
       "      <td>NaN</td>\n",
       "      <td>NaN</td>\n",
       "      <td>NaN</td>\n",
       "      <td>NaN</td>\n",
       "      <td>...</td>\n",
       "      <td>NaN</td>\n",
       "      <td>NaN</td>\n",
       "      <td>NaN</td>\n",
       "      <td>NaN</td>\n",
       "      <td>NaN</td>\n",
       "      <td>NaN</td>\n",
       "      <td>NaN</td>\n",
       "      <td>1.0</td>\n",
       "      <td>NaN</td>\n",
       "      <td>1</td>\n",
       "    </tr>\n",
       "    <tr>\n",
       "      <th>All</th>\n",
       "      <td>4.0</td>\n",
       "      <td>1.0</td>\n",
       "      <td>1.0</td>\n",
       "      <td>2.0</td>\n",
       "      <td>3.0</td>\n",
       "      <td>1.0</td>\n",
       "      <td>1.0</td>\n",
       "      <td>1.0</td>\n",
       "      <td>1.0</td>\n",
       "      <td>4.0</td>\n",
       "      <td>...</td>\n",
       "      <td>1.0</td>\n",
       "      <td>1.0</td>\n",
       "      <td>1.0</td>\n",
       "      <td>1.0</td>\n",
       "      <td>1.0</td>\n",
       "      <td>2.0</td>\n",
       "      <td>1.0</td>\n",
       "      <td>1.0</td>\n",
       "      <td>1.0</td>\n",
       "      <td>40455</td>\n",
       "    </tr>\n",
       "  </tbody>\n",
       "</table>\n",
       "<p>544 rows × 2700 columns</p>\n",
       "</div>"
      ],
      "text/plain": [
       "      carat                                               ...    z            \\\n",
       "y       0.0 3.72 3.75 3.77 3.78  3.8 3.81 3.82 3.83 3.84  ... 9.42 9.46 9.59   \n",
       "x                                                         ...                  \n",
       "0.0     4.0  NaN  NaN  NaN  NaN  NaN  NaN  NaN  NaN  NaN  ...  NaN  NaN  NaN   \n",
       "3.77    NaN  1.0  NaN  NaN  NaN  NaN  NaN  NaN  NaN  NaN  ...  NaN  NaN  NaN   \n",
       "3.79    NaN  NaN  1.0  1.0  NaN  NaN  NaN  NaN  NaN  NaN  ...  NaN  NaN  NaN   \n",
       "3.81    NaN  NaN  NaN  1.0  NaN  NaN  NaN  NaN  NaN  NaN  ...  NaN  NaN  NaN   \n",
       "3.82    NaN  NaN  NaN  NaN  2.0  NaN  NaN  NaN  NaN  NaN  ...  NaN  NaN  NaN   \n",
       "...     ...  ...  ...  ...  ...  ...  ...  ...  ...  ...  ...  ...  ...  ...   \n",
       "10.01   NaN  NaN  NaN  NaN  NaN  NaN  NaN  NaN  NaN  NaN  ...  NaN  NaN  NaN   \n",
       "10.02   NaN  NaN  NaN  NaN  NaN  NaN  NaN  NaN  NaN  NaN  ...  NaN  NaN  NaN   \n",
       "10.14   NaN  NaN  NaN  NaN  NaN  NaN  NaN  NaN  NaN  NaN  ...  NaN  NaN  NaN   \n",
       "10.23   NaN  NaN  NaN  NaN  NaN  NaN  NaN  NaN  NaN  NaN  ...  NaN  NaN  NaN   \n",
       "All     4.0  1.0  1.0  2.0  3.0  1.0  1.0  1.0  1.0  4.0  ...  1.0  1.0  1.0   \n",
       "\n",
       "                                             \n",
       "y     9.63 9.85 9.94 10.1 10.16 58.9    All  \n",
       "x                                            \n",
       "0.0    NaN  NaN  NaN  NaN   NaN  NaN      5  \n",
       "3.77   NaN  NaN  NaN  NaN   NaN  NaN      1  \n",
       "3.79   NaN  NaN  NaN  NaN   NaN  NaN      2  \n",
       "3.81   NaN  NaN  NaN  NaN   NaN  NaN      1  \n",
       "3.82   NaN  NaN  NaN  NaN   NaN  NaN      2  \n",
       "...    ...  ...  ...  ...   ...  ...    ...  \n",
       "10.01  NaN  NaN  1.0  NaN   NaN  NaN      1  \n",
       "10.02  NaN  NaN  1.0  NaN   NaN  NaN      1  \n",
       "10.14  NaN  NaN  NaN  1.0   NaN  NaN      1  \n",
       "10.23  NaN  NaN  NaN  NaN   1.0  NaN      1  \n",
       "All    1.0  1.0  2.0  1.0   1.0  1.0  40455  \n",
       "\n",
       "[544 rows x 2700 columns]"
      ]
     },
     "execution_count": 72,
     "metadata": {},
     "output_type": "execute_result"
    }
   ],
   "source": [
    "crosstab = df_selec.pivot_table(index=['x'],columns=['y'],aggfunc=lambda x: len(x),margins=True)\n",
    "crosstab\n",
    "\n",
    "# Interpretación\n",
    "# Conteo de dos o más variables categóricas"
   ]
  },
  {
   "cell_type": "code",
   "execution_count": null,
   "id": "a8f14a3d",
   "metadata": {},
   "outputs": [],
   "source": []
  }
 ],
 "metadata": {
  "kernelspec": {
   "display_name": "Python [conda env:.conda-m1_ih]",
   "language": "python",
   "name": "conda-env-.conda-m1_ih-py"
  },
  "language_info": {
   "codemirror_mode": {
    "name": "ipython",
    "version": 3
   },
   "file_extension": ".py",
   "mimetype": "text/x-python",
   "name": "python",
   "nbconvert_exporter": "python",
   "pygments_lexer": "ipython3",
   "version": "3.9.12"
  }
 },
 "nbformat": 4,
 "nbformat_minor": 5
}
